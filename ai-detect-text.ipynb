{
 "cells": [
  {
   "cell_type": "markdown",
   "id": "f7c8eec9",
   "metadata": {
    "papermill": {
     "duration": 0.005914,
     "end_time": "2024-01-14T09:29:31.320541",
     "exception": false,
     "start_time": "2024-01-14T09:29:31.314627",
     "status": "completed"
    },
    "tags": []
   },
   "source": [
    "# AI Detect Text"
   ]
  },
  {
   "cell_type": "markdown",
   "id": "5588c6ea",
   "metadata": {
    "papermill": {
     "duration": 0.005117,
     "end_time": "2024-01-14T09:29:31.331152",
     "exception": false,
     "start_time": "2024-01-14T09:29:31.326035",
     "status": "completed"
    },
    "tags": []
   },
   "source": [
    "# Importing libraries"
   ]
  },
  {
   "cell_type": "code",
   "execution_count": 1,
   "id": "d4278d72",
   "metadata": {
    "execution": {
     "iopub.execute_input": "2024-01-14T09:29:31.343374Z",
     "iopub.status.busy": "2024-01-14T09:29:31.343039Z",
     "iopub.status.idle": "2024-01-14T09:29:43.120143Z",
     "shell.execute_reply": "2024-01-14T09:29:43.119335Z"
    },
    "papermill": {
     "duration": 11.785948,
     "end_time": "2024-01-14T09:29:43.122471",
     "exception": false,
     "start_time": "2024-01-14T09:29:31.336523",
     "status": "completed"
    },
    "tags": []
   },
   "outputs": [
    {
     "name": "stderr",
     "output_type": "stream",
     "text": [
      "/opt/conda/lib/python3.10/site-packages/scipy/__init__.py:146: UserWarning: A NumPy version >=1.16.5 and <1.23.0 is required for this version of SciPy (detected version 1.24.3\n",
      "  warnings.warn(f\"A NumPy version >={np_minversion} and <{np_maxversion}\"\n",
      "/opt/conda/lib/python3.10/site-packages/dask/dataframe/_pyarrow_compat.py:23: UserWarning: You are using pyarrow version 11.0.0 which is known to be insecure. See https://www.cve.org/CVERecord?id=CVE-2023-47248 for further details. Please upgrade to pyarrow>=14.0.1 or install pyarrow-hotfix to patch your current version.\n",
      "  warnings.warn(\n"
     ]
    }
   ],
   "source": [
    "# Import pandas, a library for data analysis and manipulation 🐼\n",
    "import pandas as pd\n",
    "\n",
    "# Import json, a library for working with JSON data format 📄\n",
    "import json\n",
    "\n",
    "# Import sys, a library for accessing system-specific parameters and functions 🖥️\n",
    "import sys\n",
    "\n",
    "# Import gc, a library for controlling the garbage collector 🗑️\n",
    "import gc\n",
    "\n",
    "# Import StratifiedKFold, a class for performing stratified k-fold cross-validation 🧮\n",
    "from sklearn.model_selection import StratifiedKFold\n",
    "\n",
    "# Import numpy, a library for scientific computing and linear algebra 🧮\n",
    "import numpy as np\n",
    "\n",
    "# Import roc_auc_score, a function for computing the area under the receiver operating characteristic curve 📈\n",
    "from sklearn.metrics import roc_auc_score\n",
    "\n",
    "# Import LGBMClassifier, a class for training and using LightGBM models 🌳\n",
    "from lightgbm import LGBMClassifier\n",
    "\n",
    "# Import TfidfVectorizer, a class for transforming text into TF-IDF features 📝\n",
    "from sklearn.feature_extraction.text import TfidfVectorizer\n",
    "\n",
    "# Import various classes and functions from the tokenizers library, which is used for creating and using custom tokenizers 🗣️\n",
    "from tokenizers import (\n",
    "    decoders,\n",
    "    models,\n",
    "    normalizers,\n",
    "    pre_tokenizers,\n",
    "    processors,\n",
    "    trainers,\n",
    "    Tokenizer,\n",
    ")\n",
    "\n",
    "# Import Dataset, a class for working with datasets in a standardized way 🗃️\n",
    "from datasets import Dataset\n",
    "\n",
    "# Import tqdm, a library for displaying progress bars ⏳\n",
    "from tqdm.auto import tqdm\n",
    "\n",
    "# Import PreTrainedTokenizerFast, a class for using fast tokenizers from the transformers library 🚀\n",
    "from transformers import PreTrainedTokenizerFast\n",
    "\n",
    "# Import SGDClassifier, a class for training and using stochastic gradient descent models 📉\n",
    "from sklearn.linear_model import SGDClassifier\n",
    "\n",
    "# Import MultinomialNB, a class for training and using multinomial naive Bayes models 🎲\n",
    "from sklearn.naive_bayes import MultinomialNB\n",
    "\n",
    "# Import VotingClassifier, a class for combining multiple classifiers into a single one 🗳️\n",
    "from sklearn.ensemble import VotingClassifier"
   ]
  },
  {
   "cell_type": "markdown",
   "id": "33920367",
   "metadata": {
    "papermill": {
     "duration": 0.005355,
     "end_time": "2024-01-14T09:29:43.133617",
     "exception": false,
     "start_time": "2024-01-14T09:29:43.128262",
     "status": "completed"
    },
    "tags": []
   },
   "source": [
    "# **Importing Datasets**"
   ]
  },
  {
   "cell_type": "code",
   "execution_count": 2,
   "id": "29197805",
   "metadata": {
    "execution": {
     "iopub.execute_input": "2024-01-14T09:29:43.146234Z",
     "iopub.status.busy": "2024-01-14T09:29:43.145602Z",
     "iopub.status.idle": "2024-01-14T09:29:43.189302Z",
     "shell.execute_reply": "2024-01-14T09:29:43.188396Z"
    },
    "papermill": {
     "duration": 0.052111,
     "end_time": "2024-01-14T09:29:43.191198",
     "exception": false,
     "start_time": "2024-01-14T09:29:43.139087",
     "status": "completed"
    },
    "tags": []
   },
   "outputs": [
    {
     "data": {
      "text/html": [
       "<div>\n",
       "<style scoped>\n",
       "    .dataframe tbody tr th:only-of-type {\n",
       "        vertical-align: middle;\n",
       "    }\n",
       "\n",
       "    .dataframe tbody tr th {\n",
       "        vertical-align: top;\n",
       "    }\n",
       "\n",
       "    .dataframe thead th {\n",
       "        text-align: right;\n",
       "    }\n",
       "</style>\n",
       "<table border=\"1\" class=\"dataframe\">\n",
       "  <thead>\n",
       "    <tr style=\"text-align: right;\">\n",
       "      <th></th>\n",
       "      <th>id</th>\n",
       "      <th>text</th>\n",
       "      <th>prediction</th>\n",
       "      <th>generated</th>\n",
       "    </tr>\n",
       "  </thead>\n",
       "  <tbody>\n",
       "    <tr>\n",
       "      <th>0</th>\n",
       "      <td>33895</td>\n",
       "      <td>First impressions are a crucial aspect of our...</td>\n",
       "      <td>0.410707</td>\n",
       "      <td>1</td>\n",
       "    </tr>\n",
       "    <tr>\n",
       "      <th>1</th>\n",
       "      <td>39951</td>\n",
       "      <td>As an eighth-grade student, I possess a talent...</td>\n",
       "      <td>0.413961</td>\n",
       "      <td>1</td>\n",
       "    </tr>\n",
       "    <tr>\n",
       "      <th>2</th>\n",
       "      <td>26725</td>\n",
       "      <td>Ummm... hey there!  So, umm... Winston Churchi...</td>\n",
       "      <td>0.467152</td>\n",
       "      <td>1</td>\n",
       "    </tr>\n",
       "    <tr>\n",
       "      <th>3</th>\n",
       "      <td>35647</td>\n",
       "      <td>\"When you are doing something wrong and someo...</td>\n",
       "      <td>0.356944</td>\n",
       "      <td>1</td>\n",
       "    </tr>\n",
       "    <tr>\n",
       "      <th>4</th>\n",
       "      <td>27976</td>\n",
       "      <td>I believe that working 10 hours a day is more...</td>\n",
       "      <td>0.450531</td>\n",
       "      <td>1</td>\n",
       "    </tr>\n",
       "    <tr>\n",
       "      <th>...</th>\n",
       "      <td>...</td>\n",
       "      <td>...</td>\n",
       "      <td>...</td>\n",
       "      <td>...</td>\n",
       "    </tr>\n",
       "    <tr>\n",
       "      <th>165</th>\n",
       "      <td>26115</td>\n",
       "      <td>Cell phones have become a hot topic when it co...</td>\n",
       "      <td>0.490097</td>\n",
       "      <td>1</td>\n",
       "    </tr>\n",
       "    <tr>\n",
       "      <th>166</th>\n",
       "      <td>29732</td>\n",
       "      <td>Honesty is a virtue that is often associated ...</td>\n",
       "      <td>0.331009</td>\n",
       "      <td>1</td>\n",
       "    </tr>\n",
       "    <tr>\n",
       "      <th>167</th>\n",
       "      <td>36240</td>\n",
       "      <td>The advantages of limiting car usage are becom...</td>\n",
       "      <td>0.473156</td>\n",
       "      <td>1</td>\n",
       "    </tr>\n",
       "    <tr>\n",
       "      <th>168</th>\n",
       "      <td>39819</td>\n",
       "      <td>Drivers Should Not Use Cell Phones in Any Capa...</td>\n",
       "      <td>0.419902</td>\n",
       "      <td>1</td>\n",
       "    </tr>\n",
       "    <tr>\n",
       "      <th>169</th>\n",
       "      <td>35456</td>\n",
       "      <td>According to the National Center for Education...</td>\n",
       "      <td>0.430731</td>\n",
       "      <td>1</td>\n",
       "    </tr>\n",
       "  </tbody>\n",
       "</table>\n",
       "<p>170 rows × 4 columns</p>\n",
       "</div>"
      ],
      "text/plain": [
       "        id                                               text  prediction  \\\n",
       "0    33895   First impressions are a crucial aspect of our...    0.410707   \n",
       "1    39951  As an eighth-grade student, I possess a talent...    0.413961   \n",
       "2    26725  Ummm... hey there!  So, umm... Winston Churchi...    0.467152   \n",
       "3    35647   \"When you are doing something wrong and someo...    0.356944   \n",
       "4    27976   I believe that working 10 hours a day is more...    0.450531   \n",
       "..     ...                                                ...         ...   \n",
       "165  26115  Cell phones have become a hot topic when it co...    0.490097   \n",
       "166  29732   Honesty is a virtue that is often associated ...    0.331009   \n",
       "167  36240  The advantages of limiting car usage are becom...    0.473156   \n",
       "168  39819  Drivers Should Not Use Cell Phones in Any Capa...    0.419902   \n",
       "169  35456  According to the National Center for Education...    0.430731   \n",
       "\n",
       "     generated  \n",
       "0            1  \n",
       "1            1  \n",
       "2            1  \n",
       "3            1  \n",
       "4            1  \n",
       "..         ...  \n",
       "165          1  \n",
       "166          1  \n",
       "167          1  \n",
       "168          1  \n",
       "169          1  \n",
       "\n",
       "[170 rows x 4 columns]"
      ]
     },
     "execution_count": 2,
     "metadata": {},
     "output_type": "execute_result"
    }
   ],
   "source": [
    "# Import the edge_cases.csv file from the given path using pandas 🐼\n",
    "edge_cases = pd.read_csv(\"/kaggle/input/llm-daigt-find-edge-case/edge_cases.csv\")\n",
    "\n",
    "# Display the edge_cases dataframe using pandas 🗃️\n",
    "edge_cases"
   ]
  },
  {
   "cell_type": "code",
   "execution_count": 3,
   "id": "688664f5",
   "metadata": {
    "execution": {
     "iopub.execute_input": "2024-01-14T09:29:43.204196Z",
     "iopub.status.busy": "2024-01-14T09:29:43.203910Z",
     "iopub.status.idle": "2024-01-14T09:29:43.212455Z",
     "shell.execute_reply": "2024-01-14T09:29:43.211684Z"
    },
    "papermill": {
     "duration": 0.017205,
     "end_time": "2024-01-14T09:29:43.214379",
     "exception": false,
     "start_time": "2024-01-14T09:29:43.197174",
     "status": "completed"
    },
    "tags": []
   },
   "outputs": [
    {
     "data": {
      "text/plain": [
       "array([1])"
      ]
     },
     "execution_count": 3,
     "metadata": {},
     "output_type": "execute_result"
    }
   ],
   "source": [
    "# Use the unique method of pandas to get the unique values of the \"generated\" column in the edge_cases dataframe 🐼\n",
    "edge_cases[\"generated\"].unique()"
   ]
  },
  {
   "cell_type": "code",
   "execution_count": 4,
   "id": "4fea0392",
   "metadata": {
    "execution": {
     "iopub.execute_input": "2024-01-14T09:29:43.227644Z",
     "iopub.status.busy": "2024-01-14T09:29:43.227166Z",
     "iopub.status.idle": "2024-01-14T09:29:43.237304Z",
     "shell.execute_reply": "2024-01-14T09:29:43.236481Z"
    },
    "papermill": {
     "duration": 0.018723,
     "end_time": "2024-01-14T09:29:43.239099",
     "exception": false,
     "start_time": "2024-01-14T09:29:43.220376",
     "status": "completed"
    },
    "tags": []
   },
   "outputs": [
    {
     "data": {
      "text/plain": [
       "(0.0, 0.40149828802332427, 0.4246961745658604, 0.4985209873471804)"
      ]
     },
     "execution_count": 4,
     "metadata": {},
     "output_type": "execute_result"
    }
   ],
   "source": [
    "# Use the min, mean, median, and max methods of pandas to get the minimum, average, middle, and maximum values of the \"prediction\" column in the edge_cases dataframe 🐼\n",
    "edge_cases[\"prediction\"].min(), edge_cases[\"prediction\"].mean() , edge_cases[\"prediction\"].median(),edge_cases[\"prediction\"].max()"
   ]
  },
  {
   "cell_type": "code",
   "execution_count": 5,
   "id": "271ed590",
   "metadata": {
    "execution": {
     "iopub.execute_input": "2024-01-14T09:29:43.252695Z",
     "iopub.status.busy": "2024-01-14T09:29:43.252435Z",
     "iopub.status.idle": "2024-01-14T09:29:43.273122Z",
     "shell.execute_reply": "2024-01-14T09:29:43.272206Z"
    },
    "papermill": {
     "duration": 0.030063,
     "end_time": "2024-01-14T09:29:43.275189",
     "exception": false,
     "start_time": "2024-01-14T09:29:43.245126",
     "status": "completed"
    },
    "tags": []
   },
   "outputs": [
    {
     "data": {
      "text/html": [
       "<div>\n",
       "<style scoped>\n",
       "    .dataframe tbody tr th:only-of-type {\n",
       "        vertical-align: middle;\n",
       "    }\n",
       "\n",
       "    .dataframe tbody tr th {\n",
       "        vertical-align: top;\n",
       "    }\n",
       "\n",
       "    .dataframe thead th {\n",
       "        text-align: right;\n",
       "    }\n",
       "</style>\n",
       "<table border=\"1\" class=\"dataframe\">\n",
       "  <thead>\n",
       "    <tr style=\"text-align: right;\">\n",
       "      <th></th>\n",
       "      <th>count</th>\n",
       "    </tr>\n",
       "    <tr>\n",
       "      <th>prediction</th>\n",
       "      <th></th>\n",
       "    </tr>\n",
       "  </thead>\n",
       "  <tbody>\n",
       "    <tr>\n",
       "      <th>(0.4, 0.5]</th>\n",
       "      <td>109</td>\n",
       "    </tr>\n",
       "    <tr>\n",
       "      <th>(0.3, 0.4]</th>\n",
       "      <td>43</td>\n",
       "    </tr>\n",
       "    <tr>\n",
       "      <th>(0.2, 0.3]</th>\n",
       "      <td>12</td>\n",
       "    </tr>\n",
       "    <tr>\n",
       "      <th>(0.1, 0.2]</th>\n",
       "      <td>2</td>\n",
       "    </tr>\n",
       "    <tr>\n",
       "      <th>(0.0, 0.1]</th>\n",
       "      <td>0</td>\n",
       "    </tr>\n",
       "  </tbody>\n",
       "</table>\n",
       "</div>"
      ],
      "text/plain": [
       "            count\n",
       "prediction       \n",
       "(0.4, 0.5]    109\n",
       "(0.3, 0.4]     43\n",
       "(0.2, 0.3]     12\n",
       "(0.1, 0.2]      2\n",
       "(0.0, 0.1]      0"
      ]
     },
     "execution_count": 5,
     "metadata": {},
     "output_type": "execute_result"
    }
   ],
   "source": [
    "# Use the cut method of pandas to bin the \"prediction\" column in the edge_cases dataframe into five equal-width intervals from 0.0 to 0.5 🐼\n",
    "# The include_lowest argument is set to False, which means the first interval is open on the left (0.0, 0.1) and does not include 0.0\n",
    "# The value_counts method of pandas returns the frequency of each interval in the \"prediction\" column 📊\n",
    "pd.DataFrame(pd.cut(edge_cases['prediction'], [0.0, 0.1, 0.2, 0.3, 0.4, 0.5], include_lowest=False).value_counts())"
   ]
  },
  {
   "cell_type": "code",
   "execution_count": 6,
   "id": "299e768d",
   "metadata": {
    "execution": {
     "iopub.execute_input": "2024-01-14T09:29:43.289268Z",
     "iopub.status.busy": "2024-01-14T09:29:43.288993Z",
     "iopub.status.idle": "2024-01-14T09:29:43.296203Z",
     "shell.execute_reply": "2024-01-14T09:29:43.295209Z"
    },
    "papermill": {
     "duration": 0.016337,
     "end_time": "2024-01-14T09:29:43.298141",
     "exception": false,
     "start_time": "2024-01-14T09:29:43.281804",
     "status": "completed"
    },
    "tags": []
   },
   "outputs": [
    {
     "name": "stdout",
     "output_type": "stream",
     "text": [
      "{'AUC': 0.9985770475470891}\n"
     ]
    }
   ],
   "source": [
    "# Use the open function to read the file named \"metrics.json\" from the given path 📂\n",
    "with open(\"/kaggle/input/llm-daigt-find-edge-case/metrics.json\") as f:\n",
    "    # Use the json library to load the file content as a Python dictionary 📄\n",
    "    metrics = json.load(f)\n",
    "# Use the print function to display the metrics dictionary on the screen 🖥️\n",
    "print(metrics)"
   ]
  },
  {
   "cell_type": "code",
   "execution_count": 7,
   "id": "3c20797a",
   "metadata": {
    "execution": {
     "iopub.execute_input": "2024-01-14T09:29:43.312234Z",
     "iopub.status.busy": "2024-01-14T09:29:43.311967Z",
     "iopub.status.idle": "2024-01-14T09:29:45.284595Z",
     "shell.execute_reply": "2024-01-14T09:29:45.283750Z"
    },
    "papermill": {
     "duration": 1.982172,
     "end_time": "2024-01-14T09:29:45.286946",
     "exception": false,
     "start_time": "2024-01-14T09:29:43.304774",
     "status": "completed"
    },
    "tags": []
   },
   "outputs": [],
   "source": [
    "# Use the read_csv method of pandas to load the test_essays.csv file from the given path into a dataframe named test 🐼\n",
    "test = pd.read_csv('/kaggle/input/llm-detect-ai-generated-text/test_essays.csv')\n",
    "\n",
    "# Use the read_csv method of pandas to load the sample_submission.csv file from the given path into a dataframe named sub 🐼\n",
    "sub = pd.read_csv('/kaggle/input/llm-detect-ai-generated-text/sample_submission.csv')\n",
    "\n",
    "# Use the read_csv method of pandas to load the train_v2_drcat_02.csv file from the given path into a dataframe named train, using a comma as the separator 🐼\n",
    "train = pd.read_csv(\"/kaggle/input/daigt-v2-train-dataset/train_v2_drcat_02.csv\", sep=',')"
   ]
  },
  {
   "cell_type": "code",
   "execution_count": 8,
   "id": "1246e3b0",
   "metadata": {
    "execution": {
     "iopub.execute_input": "2024-01-14T09:29:45.302552Z",
     "iopub.status.busy": "2024-01-14T09:29:45.302253Z",
     "iopub.status.idle": "2024-01-14T09:29:45.374720Z",
     "shell.execute_reply": "2024-01-14T09:29:45.373951Z"
    },
    "papermill": {
     "duration": 0.082484,
     "end_time": "2024-01-14T09:29:45.376719",
     "exception": false,
     "start_time": "2024-01-14T09:29:45.294235",
     "status": "completed"
    },
    "tags": []
   },
   "outputs": [],
   "source": [
    "# Use the drop_duplicates method of pandas to remove any rows in the train dataframe that have the same value in the \"text\" column 🐼\n",
    "# The subset argument specifies which column(s) to consider for identifying duplicates\n",
    "# The inplace argument is set to True, which means the original train dataframe is modified and no new dataframe is returned\n",
    "train = train.drop_duplicates(subset=['text'])\n",
    "\n",
    "# Use the reset_index method of pandas to reset the index of the train dataframe to a sequential numerical index 🐼\n",
    "# The drop argument is set to True, which means the old index is dropped and not added as a new column\n",
    "# The inplace argument is set to True, which means the original train dataframe is modified and no new dataframe is returned\n",
    "train.reset_index(drop=True, inplace=True)"
   ]
  },
  {
   "cell_type": "code",
   "execution_count": 9,
   "id": "1078edf3",
   "metadata": {
    "execution": {
     "iopub.execute_input": "2024-01-14T09:29:45.390926Z",
     "iopub.status.busy": "2024-01-14T09:29:45.390655Z",
     "iopub.status.idle": "2024-01-14T09:29:45.394943Z",
     "shell.execute_reply": "2024-01-14T09:29:45.394078Z"
    },
    "papermill": {
     "duration": 0.013497,
     "end_time": "2024-01-14T09:29:45.396788",
     "exception": false,
     "start_time": "2024-01-14T09:29:45.383291",
     "status": "completed"
    },
    "tags": []
   },
   "outputs": [],
   "source": [
    "# 🚨🚨🚨\n",
    "# The following line of code sets the LOWERCASE flag to False.\n",
    "# This means that the text will not be converted to lowercase before tokenization.\n",
    "# 🚨🚨🚨\n",
    "LOWERCASE = False\n",
    "\n",
    "# 🚨🚨🚨\n",
    "# The following line of code sets the VOCAB_SIZE to 14000000.\n",
    "# This means that the maximum number of words in the vocabulary will be 14 million.\n",
    "# 🚨🚨🚨\n",
    "VOCAB_SIZE = 14000000"
   ]
  },
  {
   "cell_type": "markdown",
   "id": "181bcacb",
   "metadata": {
    "papermill": {
     "duration": 0.006474,
     "end_time": "2024-01-14T09:29:45.409580",
     "exception": false,
     "start_time": "2024-01-14T09:29:45.403106",
     "status": "completed"
    },
    "tags": []
   },
   "source": [
    "Tokenization And Vocabularizing"
   ]
  },
  {
   "cell_type": "code",
   "execution_count": 10,
   "id": "b6f2659e",
   "metadata": {
    "execution": {
     "iopub.execute_input": "2024-01-14T09:29:45.424759Z",
     "iopub.status.busy": "2024-01-14T09:29:45.424506Z",
     "iopub.status.idle": "2024-01-14T09:31:40.067391Z",
     "shell.execute_reply": "2024-01-14T09:31:40.066355Z"
    },
    "papermill": {
     "duration": 114.652631,
     "end_time": "2024-01-14T09:31:40.069530",
     "exception": false,
     "start_time": "2024-01-14T09:29:45.416899",
     "status": "completed"
    },
    "tags": []
   },
   "outputs": [
    {
     "name": "stdout",
     "output_type": "stream",
     "text": [
      "\n",
      "\n",
      "\n"
     ]
    },
    {
     "data": {
      "application/vnd.jupyter.widget-view+json": {
       "model_id": "7a08d4fd006c434293798334c47afd3a",
       "version_major": 2,
       "version_minor": 0
      },
      "text/plain": [
       "  0%|          | 0/3 [00:00<?, ?it/s]"
      ]
     },
     "metadata": {},
     "output_type": "display_data"
    },
    {
     "data": {
      "application/vnd.jupyter.widget-view+json": {
       "model_id": "f6632308a0834e128d86a6ecbf7cd83c",
       "version_major": 2,
       "version_minor": 0
      },
      "text/plain": [
       "  0%|          | 0/44868 [00:00<?, ?it/s]"
      ]
     },
     "metadata": {},
     "output_type": "display_data"
    }
   ],
   "source": [
    "# Create a tokenizer object using the Byte Pair Encoding (BPE) algorithm\n",
    "raw_tokenizer = Tokenizer(models.BPE(unk_token=\"[UNK]\"))\n",
    "\n",
    "# Normalize the text by applying Unicode Normalization Form C (NFC) and optionally lowercasing it\n",
    "raw_tokenizer.normalizer = normalizers.Sequence([normalizers.NFC()] + [normalizers.Lowercase()] if LOWERCASE else [])\n",
    "\n",
    "# Pre-tokenize the text by splitting it into bytes\n",
    "raw_tokenizer.pre_tokenizer = pre_tokenizers.ByteLevel()\n",
    "\n",
    "# Define the special tokens that will be used for the downstream task\n",
    "special_tokens = [\"[UNK]\", \"[PAD]\", \"[CLS]\", \"[SEP]\", \"[MASK]\"]\n",
    "\n",
    "# Create a trainer object that will train the tokenizer on the given vocabulary size and special tokens\n",
    "trainer = trainers.BpeTrainer(vocab_size=VOCAB_SIZE, special_tokens=special_tokens)\n",
    "\n",
    "# Load the test dataset from a pandas dataframe and select only the text column\n",
    "dataset = Dataset.from_pandas(test[['text']])\n",
    "\n",
    "# Define a generator function that will yield batches of text from the dataset\n",
    "def train_corp_iter(): \n",
    "    for i in range(0, len(dataset), 1000):\n",
    "        yield dataset[i : i + 1000][\"text\"]\n",
    "\n",
    "# Train the tokenizer on the batches of text using the trainer object\n",
    "raw_tokenizer.train_from_iterator(train_corp_iter(), trainer=trainer)\n",
    "\n",
    "# Wrap the raw tokenizer object into a PreTrainedTokenizerFast object that is compatible with the HuggingFace library\n",
    "tokenizer = PreTrainedTokenizerFast(\n",
    "    tokenizer_object=raw_tokenizer,\n",
    "    unk_token=\"[UNK]\",\n",
    "    pad_token=\"[PAD]\",\n",
    "    cls_token=\"[CLS]\",\n",
    "    sep_token=\"[SEP]\",\n",
    "    mask_token=\"[MASK]\",\n",
    ")\n",
    "\n",
    "# Initialize an empty list to store the tokenized texts for the test set\n",
    "tokenized_texts_test = []\n",
    "\n",
    "# Loop over the texts in the test set and tokenize them using the tokenizer object\n",
    "for text in tqdm(test['text'].tolist()):\n",
    "    tokenized_texts_test.append(tokenizer.tokenize(text))\n",
    "\n",
    "# Initialize an empty list to store the tokenized texts for the train set\n",
    "tokenized_texts_train = []\n",
    "\n",
    "# Loop over the texts in the train set and tokenize them using the tokenizer object\n",
    "for text in tqdm(train['text'].tolist()):\n",
    "    tokenized_texts_train.append(tokenizer.tokenize(text))"
   ]
  },
  {
   "cell_type": "code",
   "execution_count": 11,
   "id": "55709367",
   "metadata": {
    "execution": {
     "iopub.execute_input": "2024-01-14T09:31:40.085970Z",
     "iopub.status.busy": "2024-01-14T09:31:40.085584Z",
     "iopub.status.idle": "2024-01-14T09:31:40.091546Z",
     "shell.execute_reply": "2024-01-14T09:31:40.090708Z"
    },
    "papermill": {
     "duration": 0.016773,
     "end_time": "2024-01-14T09:31:40.093521",
     "exception": false,
     "start_time": "2024-01-14T09:31:40.076748",
     "status": "completed"
    },
    "tags": []
   },
   "outputs": [
    {
     "data": {
      "text/plain": [
       "['ĠBbb', 'Ġccc', 'Ġddd', '.']"
      ]
     },
     "execution_count": 11,
     "metadata": {},
     "output_type": "execute_result"
    }
   ],
   "source": [
    "# Access the second element (index 1) in the 'tokenized_texts_test' list 📚\n",
    "tokenized_texts_test[1]"
   ]
  },
  {
   "cell_type": "code",
   "execution_count": 12,
   "id": "733a4a8e",
   "metadata": {
    "execution": {
     "iopub.execute_input": "2024-01-14T09:31:40.109165Z",
     "iopub.status.busy": "2024-01-14T09:31:40.108897Z",
     "iopub.status.idle": "2024-01-14T09:36:01.269585Z",
     "shell.execute_reply": "2024-01-14T09:36:01.268631Z"
    },
    "papermill": {
     "duration": 261.17852,
     "end_time": "2024-01-14T09:36:01.279213",
     "exception": false,
     "start_time": "2024-01-14T09:31:40.100693",
     "status": "completed"
    },
    "tags": []
   },
   "outputs": [
    {
     "name": "stdout",
     "output_type": "stream",
     "text": [
      "{'ĠAaa Ġbbb Ġccc': 0, 'Ġbbb Ġccc .': 6, 'ĠAaa Ġbbb Ġccc .': 1, 'ĠBbb Ġccc Ġddd': 2, 'Ġccc Ġddd .': 7, 'ĠBbb Ġccc Ġddd .': 3, 'ĠCCC Ġddd Ġeee': 4, 'Ġddd Ġeee .': 8, 'ĠCCC Ġddd Ġeee .': 5}\n"
     ]
    },
    {
     "data": {
      "text/plain": [
       "53"
      ]
     },
     "execution_count": 12,
     "metadata": {},
     "output_type": "execute_result"
    }
   ],
   "source": [
    "# Define a dummy function that returns the input text as it is\n",
    "def dummy(text):\n",
    "    return text\n",
    "\n",
    "# Create a TfidfVectorizer object that will extract n-grams of words (3 to 5) from the text, without lowercasing or tokenizing it\n",
    "vectorizer = TfidfVectorizer(ngram_range=(3, 5), lowercase=False, sublinear_tf=True, analyzer = 'word',\n",
    "    tokenizer = dummy,\n",
    "    preprocessor = dummy,\n",
    "    token_pattern = None, strip_accents='unicode')\n",
    "\n",
    "# Fit the vectorizer on the tokenized texts of the test set\n",
    "vectorizer.fit(tokenized_texts_test)\n",
    "\n",
    "# Get the vocabulary of the vectorizer, which is a dictionary of n-grams and their indices\n",
    "vocab = vectorizer.vocabulary_\n",
    "\n",
    "# Print the vocabulary\n",
    "print(vocab)\n",
    "\n",
    "# Create another TfidfVectorizer object with the same parameters, but using the vocabulary obtained from the previous vectorizer\n",
    "vectorizer = TfidfVectorizer(ngram_range=(3, 5), lowercase=False, sublinear_tf=True, vocabulary=vocab,\n",
    "                            analyzer = 'word',\n",
    "                            tokenizer = dummy,\n",
    "                            preprocessor = dummy,\n",
    "                            token_pattern = None, strip_accents='unicode'\n",
    "                            )\n",
    "\n",
    "# Fit and transform the vectorizer on the tokenized texts of the train set, and get the sparse matrix of tf-idf values\n",
    "tf_train = vectorizer.fit_transform(tokenized_texts_train)\n",
    "\n",
    "# Transform the vectorizer on the tokenized texts of the test set, and get the sparse matrix of tf-idf values\n",
    "tf_test = vectorizer.transform(tokenized_texts_test)\n",
    "\n",
    "# Delete the vectorizer object to free up memory\n",
    "del vectorizer\n",
    "\n",
    "# Invoke the garbage collector to reclaim unused memory\n",
    "gc.collect()"
   ]
  },
  {
   "cell_type": "code",
   "execution_count": 13,
   "id": "66cde63b",
   "metadata": {
    "execution": {
     "iopub.execute_input": "2024-01-14T09:36:01.295346Z",
     "iopub.status.busy": "2024-01-14T09:36:01.295004Z",
     "iopub.status.idle": "2024-01-14T09:36:01.299432Z",
     "shell.execute_reply": "2024-01-14T09:36:01.298533Z"
    },
    "papermill": {
     "duration": 0.014775,
     "end_time": "2024-01-14T09:36:01.301451",
     "exception": false,
     "start_time": "2024-01-14T09:36:01.286676",
     "status": "completed"
    },
    "tags": []
   },
   "outputs": [],
   "source": [
    "y_train = train['label'].values"
   ]
  },
  {
   "cell_type": "code",
   "execution_count": 14,
   "id": "8545c392",
   "metadata": {
    "execution": {
     "iopub.execute_input": "2024-01-14T09:36:01.317409Z",
     "iopub.status.busy": "2024-01-14T09:36:01.317058Z",
     "iopub.status.idle": "2024-01-14T09:36:01.796040Z",
     "shell.execute_reply": "2024-01-14T09:36:01.795024Z"
    },
    "papermill": {
     "duration": 0.489752,
     "end_time": "2024-01-14T09:36:01.798590",
     "exception": false,
     "start_time": "2024-01-14T09:36:01.308838",
     "status": "completed"
    },
    "tags": []
   },
   "outputs": [
    {
     "name": "stdout",
     "output_type": "stream",
     "text": [
      "VotingClassifier(estimators=[('mnb', MultinomialNB(alpha=0.0235)),\n",
      "                             ('sgd',\n",
      "                              SGDClassifier(loss='modified_huber',\n",
      "                                            max_iter=9000, random_state=6743,\n",
      "                                            tol=0.0003)),\n",
      "                             ('lgb',\n",
      "                              LGBMClassifier(colsample_bynode=0.8,\n",
      "                                             colsample_bytree=0.78,\n",
      "                                             learning_rate=0.0031909898961407,\n",
      "                                             metric='auc', n_iter=3000,\n",
      "                                             objective='cross_entropy',\n",
      "                                             random_state=6743, verbose=-1)),\n",
      "                             ('cat',\n",
      "                              <catboost.core.CatBoostClassifier object at 0x7d393ca2e1a0>)],\n",
      "                 n_jobs=-1, voting='soft', weights=[0.1, 0.31, 0.31, 0.6])\n"
     ]
    }
   ],
   "source": [
    "# Define a function that returns an ensemble model of four classifiers\n",
    "def get_model():\n",
    "    # Import the CatBoostClassifier from the catboost library\n",
    "    from catboost import CatBoostClassifier\n",
    "    \n",
    "    # Create a Multinomial Naive Bayes classifier with a smoothing parameter of 0.0235\n",
    "    clf = MultinomialNB(alpha=0.0235)\n",
    "    \n",
    "    # Create a Stochastic Gradient Descent classifier with a maximum of 9000 iterations, a tolerance of 3e-4, a modified huber loss function, and a random state of 6743\n",
    "    sgd_model = SGDClassifier(max_iter=9000, tol=3e-4, loss=\"modified_huber\", random_state=6743) \n",
    "    \n",
    "    # Define a dictionary of parameters for a LightGBM classifier\n",
    "    p6={'n_iter': 3000,'verbose': -1,'objective': 'cross_entropy','metric': 'auc',\n",
    "        'learning_rate': 0.0031909898961407, 'colsample_bytree': 0.78,\n",
    "        'colsample_bynode': 0.8,\n",
    "       }\n",
    "    \n",
    "    # Set the random state of the LightGBM classifier to 6743\n",
    "    p6[\"random_state\"] = 6743\n",
    "    \n",
    "    # Create a LightGBM classifier with the given parameters\n",
    "    lgb=LGBMClassifier(**p6)\n",
    "    \n",
    "    # Create a CatBoost classifier with 3000 iterations, a learning rate of 0.003599066836106983, a subsample of 0.4, a cross entropy loss function, and a random seed of 6543\n",
    "    cat=CatBoostClassifier(iterations=3000,\n",
    "                           verbose=0,\n",
    "                           random_seed=6543,\n",
    "                           learning_rate=0.003599066836106983,\n",
    "                           subsample = 0.4,\n",
    "                           allow_const_label=True,loss_function = 'CrossEntropy')\n",
    "    \n",
    "    # Define a list of weights for the four classifiers\n",
    "    weights = [0.1,0.31,0.31,0.6]\n",
    " \n",
    "    # Create a voting classifier that combines the four classifiers using soft voting and parallel processing\n",
    "    ensemble = VotingClassifier(estimators=[('mnb',clf),\n",
    "                                            ('sgd', sgd_model),\n",
    "                                            ('lgb',lgb), \n",
    "                                            ('cat', cat)\n",
    "                                           ],\n",
    "                                weights=weights, voting='soft', n_jobs=-1)\n",
    "    \n",
    "    # Return the ensemble model\n",
    "    return ensemble\n",
    "\n",
    "# Call the get_model function and assign the returned model to a variable\n",
    "model = get_model()\n",
    "\n",
    "# Print the model\n",
    "print(model)\n",
    "\n",
    "# Check the length of the test text values\n",
    "if len(test.text.values) <= 5:\n",
    "    # If the length is less than or equal to 5, save the submission dataframe to a csv file\n",
    "    sub.to_csv('submission.csv', index=False)\n",
    "else:\n",
    "    # Otherwise, fit the model on the tf-idf matrix of the train set and the target labels\n",
    "    model.fit(tf_train, y_train)\n",
    "\n",
    "    # Invoke the garbage collector to reclaim unused memory\n",
    "    gc.collect()\n",
    "\n",
    "    # Predict the probabilities of the positive class for the test set using the model\n",
    "    final_preds = model.predict_proba(tf_test)[:,1]\n",
    "    \n",
    "    # Assign the predicted probabilities to the generated column of the submission dataframe\n",
    "    sub['generated'] = final_preds\n",
    "    \n",
    "    # Save the submission dataframe to a csv file\n",
    "    sub.to_csv('submission.csv', index=False)\n",
    "    \n",
    "    # Display the submission dataframe\n",
    "    sub"
   ]
  }
 ],
 "metadata": {
  "kaggle": {
   "accelerator": "nvidiaTeslaT4",
   "dataSources": [
    {
     "databundleVersionId": 6888007,
     "sourceId": 61542,
     "sourceType": "competition"
    },
    {
     "datasetId": 4005256,
     "sourceId": 6977472,
     "sourceType": "datasetVersion"
    },
    {
     "datasetId": 4099711,
     "sourceId": 7110479,
     "sourceType": "datasetVersion"
    },
    {
     "datasetId": 4104703,
     "sourceId": 7117339,
     "sourceType": "datasetVersion"
    },
    {
     "sourceId": 155681847,
     "sourceType": "kernelVersion"
    }
   ],
   "dockerImageVersionId": 30635,
   "isGpuEnabled": true,
   "isInternetEnabled": false,
   "language": "python",
   "sourceType": "notebook"
  },
  "kernelspec": {
   "display_name": "Python 3",
   "language": "python",
   "name": "python3"
  },
  "language_info": {
   "codemirror_mode": {
    "name": "ipython",
    "version": 3
   },
   "file_extension": ".py",
   "mimetype": "text/x-python",
   "name": "python",
   "nbconvert_exporter": "python",
   "pygments_lexer": "ipython3",
   "version": "3.10.12"
  },
  "papermill": {
   "default_parameters": {},
   "duration": 396.986156,
   "end_time": "2024-01-14T09:36:04.628033",
   "environment_variables": {},
   "exception": null,
   "input_path": "__notebook__.ipynb",
   "output_path": "__notebook__.ipynb",
   "parameters": {},
   "start_time": "2024-01-14T09:29:27.641877",
   "version": "2.4.0"
  },
  "widgets": {
   "application/vnd.jupyter.widget-state+json": {
    "state": {
     "1405f495fffc416bb3f7186e4ef05ed8": {
      "model_module": "@jupyter-widgets/controls",
      "model_module_version": "1.5.0",
      "model_name": "DescriptionStyleModel",
      "state": {
       "_model_module": "@jupyter-widgets/controls",
       "_model_module_version": "1.5.0",
       "_model_name": "DescriptionStyleModel",
       "_view_count": null,
       "_view_module": "@jupyter-widgets/base",
       "_view_module_version": "1.2.0",
       "_view_name": "StyleView",
       "description_width": ""
      }
     },
     "2f21d8c707384dafb37712e775916a57": {
      "model_module": "@jupyter-widgets/base",
      "model_module_version": "1.2.0",
      "model_name": "LayoutModel",
      "state": {
       "_model_module": "@jupyter-widgets/base",
       "_model_module_version": "1.2.0",
       "_model_name": "LayoutModel",
       "_view_count": null,
       "_view_module": "@jupyter-widgets/base",
       "_view_module_version": "1.2.0",
       "_view_name": "LayoutView",
       "align_content": null,
       "align_items": null,
       "align_self": null,
       "border": null,
       "bottom": null,
       "display": null,
       "flex": null,
       "flex_flow": null,
       "grid_area": null,
       "grid_auto_columns": null,
       "grid_auto_flow": null,
       "grid_auto_rows": null,
       "grid_column": null,
       "grid_gap": null,
       "grid_row": null,
       "grid_template_areas": null,
       "grid_template_columns": null,
       "grid_template_rows": null,
       "height": null,
       "justify_content": null,
       "justify_items": null,
       "left": null,
       "margin": null,
       "max_height": null,
       "max_width": null,
       "min_height": null,
       "min_width": null,
       "object_fit": null,
       "object_position": null,
       "order": null,
       "overflow": null,
       "overflow_x": null,
       "overflow_y": null,
       "padding": null,
       "right": null,
       "top": null,
       "visibility": null,
       "width": null
      }
     },
     "40d3c488f21c4f15a14596f03e0684d8": {
      "model_module": "@jupyter-widgets/base",
      "model_module_version": "1.2.0",
      "model_name": "LayoutModel",
      "state": {
       "_model_module": "@jupyter-widgets/base",
       "_model_module_version": "1.2.0",
       "_model_name": "LayoutModel",
       "_view_count": null,
       "_view_module": "@jupyter-widgets/base",
       "_view_module_version": "1.2.0",
       "_view_name": "LayoutView",
       "align_content": null,
       "align_items": null,
       "align_self": null,
       "border": null,
       "bottom": null,
       "display": null,
       "flex": null,
       "flex_flow": null,
       "grid_area": null,
       "grid_auto_columns": null,
       "grid_auto_flow": null,
       "grid_auto_rows": null,
       "grid_column": null,
       "grid_gap": null,
       "grid_row": null,
       "grid_template_areas": null,
       "grid_template_columns": null,
       "grid_template_rows": null,
       "height": null,
       "justify_content": null,
       "justify_items": null,
       "left": null,
       "margin": null,
       "max_height": null,
       "max_width": null,
       "min_height": null,
       "min_width": null,
       "object_fit": null,
       "object_position": null,
       "order": null,
       "overflow": null,
       "overflow_x": null,
       "overflow_y": null,
       "padding": null,
       "right": null,
       "top": null,
       "visibility": null,
       "width": null
      }
     },
     "493a2b22c63444acb0419babdc555eaf": {
      "model_module": "@jupyter-widgets/controls",
      "model_module_version": "1.5.0",
      "model_name": "ProgressStyleModel",
      "state": {
       "_model_module": "@jupyter-widgets/controls",
       "_model_module_version": "1.5.0",
       "_model_name": "ProgressStyleModel",
       "_view_count": null,
       "_view_module": "@jupyter-widgets/base",
       "_view_module_version": "1.2.0",
       "_view_name": "StyleView",
       "bar_color": null,
       "description_width": ""
      }
     },
     "4c2ed6329caf48c0b1739f5b93fcde5f": {
      "model_module": "@jupyter-widgets/base",
      "model_module_version": "1.2.0",
      "model_name": "LayoutModel",
      "state": {
       "_model_module": "@jupyter-widgets/base",
       "_model_module_version": "1.2.0",
       "_model_name": "LayoutModel",
       "_view_count": null,
       "_view_module": "@jupyter-widgets/base",
       "_view_module_version": "1.2.0",
       "_view_name": "LayoutView",
       "align_content": null,
       "align_items": null,
       "align_self": null,
       "border": null,
       "bottom": null,
       "display": null,
       "flex": null,
       "flex_flow": null,
       "grid_area": null,
       "grid_auto_columns": null,
       "grid_auto_flow": null,
       "grid_auto_rows": null,
       "grid_column": null,
       "grid_gap": null,
       "grid_row": null,
       "grid_template_areas": null,
       "grid_template_columns": null,
       "grid_template_rows": null,
       "height": null,
       "justify_content": null,
       "justify_items": null,
       "left": null,
       "margin": null,
       "max_height": null,
       "max_width": null,
       "min_height": null,
       "min_width": null,
       "object_fit": null,
       "object_position": null,
       "order": null,
       "overflow": null,
       "overflow_x": null,
       "overflow_y": null,
       "padding": null,
       "right": null,
       "top": null,
       "visibility": null,
       "width": null
      }
     },
     "5a98e1dc3bc840108d5156b182ba2b49": {
      "model_module": "@jupyter-widgets/base",
      "model_module_version": "1.2.0",
      "model_name": "LayoutModel",
      "state": {
       "_model_module": "@jupyter-widgets/base",
       "_model_module_version": "1.2.0",
       "_model_name": "LayoutModel",
       "_view_count": null,
       "_view_module": "@jupyter-widgets/base",
       "_view_module_version": "1.2.0",
       "_view_name": "LayoutView",
       "align_content": null,
       "align_items": null,
       "align_self": null,
       "border": null,
       "bottom": null,
       "display": null,
       "flex": null,
       "flex_flow": null,
       "grid_area": null,
       "grid_auto_columns": null,
       "grid_auto_flow": null,
       "grid_auto_rows": null,
       "grid_column": null,
       "grid_gap": null,
       "grid_row": null,
       "grid_template_areas": null,
       "grid_template_columns": null,
       "grid_template_rows": null,
       "height": null,
       "justify_content": null,
       "justify_items": null,
       "left": null,
       "margin": null,
       "max_height": null,
       "max_width": null,
       "min_height": null,
       "min_width": null,
       "object_fit": null,
       "object_position": null,
       "order": null,
       "overflow": null,
       "overflow_x": null,
       "overflow_y": null,
       "padding": null,
       "right": null,
       "top": null,
       "visibility": null,
       "width": null
      }
     },
     "6251d2b8b1694e3ba7641e098efde65a": {
      "model_module": "@jupyter-widgets/base",
      "model_module_version": "1.2.0",
      "model_name": "LayoutModel",
      "state": {
       "_model_module": "@jupyter-widgets/base",
       "_model_module_version": "1.2.0",
       "_model_name": "LayoutModel",
       "_view_count": null,
       "_view_module": "@jupyter-widgets/base",
       "_view_module_version": "1.2.0",
       "_view_name": "LayoutView",
       "align_content": null,
       "align_items": null,
       "align_self": null,
       "border": null,
       "bottom": null,
       "display": null,
       "flex": null,
       "flex_flow": null,
       "grid_area": null,
       "grid_auto_columns": null,
       "grid_auto_flow": null,
       "grid_auto_rows": null,
       "grid_column": null,
       "grid_gap": null,
       "grid_row": null,
       "grid_template_areas": null,
       "grid_template_columns": null,
       "grid_template_rows": null,
       "height": null,
       "justify_content": null,
       "justify_items": null,
       "left": null,
       "margin": null,
       "max_height": null,
       "max_width": null,
       "min_height": null,
       "min_width": null,
       "object_fit": null,
       "object_position": null,
       "order": null,
       "overflow": null,
       "overflow_x": null,
       "overflow_y": null,
       "padding": null,
       "right": null,
       "top": null,
       "visibility": null,
       "width": null
      }
     },
     "6813b25b14394cd2b281de3112f476e9": {
      "model_module": "@jupyter-widgets/controls",
      "model_module_version": "1.5.0",
      "model_name": "HTMLModel",
      "state": {
       "_dom_classes": [],
       "_model_module": "@jupyter-widgets/controls",
       "_model_module_version": "1.5.0",
       "_model_name": "HTMLModel",
       "_view_count": null,
       "_view_module": "@jupyter-widgets/controls",
       "_view_module_version": "1.5.0",
       "_view_name": "HTMLView",
       "description": "",
       "description_tooltip": null,
       "layout": "IPY_MODEL_4c2ed6329caf48c0b1739f5b93fcde5f",
       "placeholder": "​",
       "style": "IPY_MODEL_1405f495fffc416bb3f7186e4ef05ed8",
       "value": " 3/3 [00:00&lt;00:00, 236.10it/s]"
      }
     },
     "6b12f3e21aa14d93a8a07f7c730e2632": {
      "model_module": "@jupyter-widgets/controls",
      "model_module_version": "1.5.0",
      "model_name": "HTMLModel",
      "state": {
       "_dom_classes": [],
       "_model_module": "@jupyter-widgets/controls",
       "_model_module_version": "1.5.0",
       "_model_name": "HTMLModel",
       "_view_count": null,
       "_view_module": "@jupyter-widgets/controls",
       "_view_module_version": "1.5.0",
       "_view_name": "HTMLView",
       "description": "",
       "description_tooltip": null,
       "layout": "IPY_MODEL_5a98e1dc3bc840108d5156b182ba2b49",
       "placeholder": "​",
       "style": "IPY_MODEL_cd00ad98ada44c6993d0db9449eb42dd",
       "value": "100%"
      }
     },
     "6e3262d9edfd40fcbd411a76d4639638": {
      "model_module": "@jupyter-widgets/controls",
      "model_module_version": "1.5.0",
      "model_name": "FloatProgressModel",
      "state": {
       "_dom_classes": [],
       "_model_module": "@jupyter-widgets/controls",
       "_model_module_version": "1.5.0",
       "_model_name": "FloatProgressModel",
       "_view_count": null,
       "_view_module": "@jupyter-widgets/controls",
       "_view_module_version": "1.5.0",
       "_view_name": "ProgressView",
       "bar_style": "success",
       "description": "",
       "description_tooltip": null,
       "layout": "IPY_MODEL_40d3c488f21c4f15a14596f03e0684d8",
       "max": 3.0,
       "min": 0.0,
       "orientation": "horizontal",
       "style": "IPY_MODEL_493a2b22c63444acb0419babdc555eaf",
       "value": 3.0
      }
     },
     "7a08d4fd006c434293798334c47afd3a": {
      "model_module": "@jupyter-widgets/controls",
      "model_module_version": "1.5.0",
      "model_name": "HBoxModel",
      "state": {
       "_dom_classes": [],
       "_model_module": "@jupyter-widgets/controls",
       "_model_module_version": "1.5.0",
       "_model_name": "HBoxModel",
       "_view_count": null,
       "_view_module": "@jupyter-widgets/controls",
       "_view_module_version": "1.5.0",
       "_view_name": "HBoxView",
       "box_style": "",
       "children": [
        "IPY_MODEL_6b12f3e21aa14d93a8a07f7c730e2632",
        "IPY_MODEL_6e3262d9edfd40fcbd411a76d4639638",
        "IPY_MODEL_6813b25b14394cd2b281de3112f476e9"
       ],
       "layout": "IPY_MODEL_9531e14f253b46b5b01af174aa12ffd6"
      }
     },
     "7ba14407848e4eb58903734c463a4e24": {
      "model_module": "@jupyter-widgets/base",
      "model_module_version": "1.2.0",
      "model_name": "LayoutModel",
      "state": {
       "_model_module": "@jupyter-widgets/base",
       "_model_module_version": "1.2.0",
       "_model_name": "LayoutModel",
       "_view_count": null,
       "_view_module": "@jupyter-widgets/base",
       "_view_module_version": "1.2.0",
       "_view_name": "LayoutView",
       "align_content": null,
       "align_items": null,
       "align_self": null,
       "border": null,
       "bottom": null,
       "display": null,
       "flex": null,
       "flex_flow": null,
       "grid_area": null,
       "grid_auto_columns": null,
       "grid_auto_flow": null,
       "grid_auto_rows": null,
       "grid_column": null,
       "grid_gap": null,
       "grid_row": null,
       "grid_template_areas": null,
       "grid_template_columns": null,
       "grid_template_rows": null,
       "height": null,
       "justify_content": null,
       "justify_items": null,
       "left": null,
       "margin": null,
       "max_height": null,
       "max_width": null,
       "min_height": null,
       "min_width": null,
       "object_fit": null,
       "object_position": null,
       "order": null,
       "overflow": null,
       "overflow_x": null,
       "overflow_y": null,
       "padding": null,
       "right": null,
       "top": null,
       "visibility": null,
       "width": null
      }
     },
     "8f84d50895a7455f99c7b6eea4ff0d2e": {
      "model_module": "@jupyter-widgets/controls",
      "model_module_version": "1.5.0",
      "model_name": "DescriptionStyleModel",
      "state": {
       "_model_module": "@jupyter-widgets/controls",
       "_model_module_version": "1.5.0",
       "_model_name": "DescriptionStyleModel",
       "_view_count": null,
       "_view_module": "@jupyter-widgets/base",
       "_view_module_version": "1.2.0",
       "_view_name": "StyleView",
       "description_width": ""
      }
     },
     "9531e14f253b46b5b01af174aa12ffd6": {
      "model_module": "@jupyter-widgets/base",
      "model_module_version": "1.2.0",
      "model_name": "LayoutModel",
      "state": {
       "_model_module": "@jupyter-widgets/base",
       "_model_module_version": "1.2.0",
       "_model_name": "LayoutModel",
       "_view_count": null,
       "_view_module": "@jupyter-widgets/base",
       "_view_module_version": "1.2.0",
       "_view_name": "LayoutView",
       "align_content": null,
       "align_items": null,
       "align_self": null,
       "border": null,
       "bottom": null,
       "display": null,
       "flex": null,
       "flex_flow": null,
       "grid_area": null,
       "grid_auto_columns": null,
       "grid_auto_flow": null,
       "grid_auto_rows": null,
       "grid_column": null,
       "grid_gap": null,
       "grid_row": null,
       "grid_template_areas": null,
       "grid_template_columns": null,
       "grid_template_rows": null,
       "height": null,
       "justify_content": null,
       "justify_items": null,
       "left": null,
       "margin": null,
       "max_height": null,
       "max_width": null,
       "min_height": null,
       "min_width": null,
       "object_fit": null,
       "object_position": null,
       "order": null,
       "overflow": null,
       "overflow_x": null,
       "overflow_y": null,
       "padding": null,
       "right": null,
       "top": null,
       "visibility": null,
       "width": null
      }
     },
     "a7a92e7ffce0452eb6f3bd33aba5b35b": {
      "model_module": "@jupyter-widgets/controls",
      "model_module_version": "1.5.0",
      "model_name": "DescriptionStyleModel",
      "state": {
       "_model_module": "@jupyter-widgets/controls",
       "_model_module_version": "1.5.0",
       "_model_name": "DescriptionStyleModel",
       "_view_count": null,
       "_view_module": "@jupyter-widgets/base",
       "_view_module_version": "1.2.0",
       "_view_name": "StyleView",
       "description_width": ""
      }
     },
     "a9ae944686a54485bad684d6ef938f45": {
      "model_module": "@jupyter-widgets/controls",
      "model_module_version": "1.5.0",
      "model_name": "HTMLModel",
      "state": {
       "_dom_classes": [],
       "_model_module": "@jupyter-widgets/controls",
       "_model_module_version": "1.5.0",
       "_model_name": "HTMLModel",
       "_view_count": null,
       "_view_module": "@jupyter-widgets/controls",
       "_view_module_version": "1.5.0",
       "_view_name": "HTMLView",
       "description": "",
       "description_tooltip": null,
       "layout": "IPY_MODEL_e69206849e10423e848837e31457a0b5",
       "placeholder": "​",
       "style": "IPY_MODEL_8f84d50895a7455f99c7b6eea4ff0d2e",
       "value": " 44868/44868 [01:54&lt;00:00, 396.63it/s]"
      }
     },
     "cd00ad98ada44c6993d0db9449eb42dd": {
      "model_module": "@jupyter-widgets/controls",
      "model_module_version": "1.5.0",
      "model_name": "DescriptionStyleModel",
      "state": {
       "_model_module": "@jupyter-widgets/controls",
       "_model_module_version": "1.5.0",
       "_model_name": "DescriptionStyleModel",
       "_view_count": null,
       "_view_module": "@jupyter-widgets/base",
       "_view_module_version": "1.2.0",
       "_view_name": "StyleView",
       "description_width": ""
      }
     },
     "cfcd7f848458499e9e2853a814ea1968": {
      "model_module": "@jupyter-widgets/controls",
      "model_module_version": "1.5.0",
      "model_name": "ProgressStyleModel",
      "state": {
       "_model_module": "@jupyter-widgets/controls",
       "_model_module_version": "1.5.0",
       "_model_name": "ProgressStyleModel",
       "_view_count": null,
       "_view_module": "@jupyter-widgets/base",
       "_view_module_version": "1.2.0",
       "_view_name": "StyleView",
       "bar_color": null,
       "description_width": ""
      }
     },
     "e69206849e10423e848837e31457a0b5": {
      "model_module": "@jupyter-widgets/base",
      "model_module_version": "1.2.0",
      "model_name": "LayoutModel",
      "state": {
       "_model_module": "@jupyter-widgets/base",
       "_model_module_version": "1.2.0",
       "_model_name": "LayoutModel",
       "_view_count": null,
       "_view_module": "@jupyter-widgets/base",
       "_view_module_version": "1.2.0",
       "_view_name": "LayoutView",
       "align_content": null,
       "align_items": null,
       "align_self": null,
       "border": null,
       "bottom": null,
       "display": null,
       "flex": null,
       "flex_flow": null,
       "grid_area": null,
       "grid_auto_columns": null,
       "grid_auto_flow": null,
       "grid_auto_rows": null,
       "grid_column": null,
       "grid_gap": null,
       "grid_row": null,
       "grid_template_areas": null,
       "grid_template_columns": null,
       "grid_template_rows": null,
       "height": null,
       "justify_content": null,
       "justify_items": null,
       "left": null,
       "margin": null,
       "max_height": null,
       "max_width": null,
       "min_height": null,
       "min_width": null,
       "object_fit": null,
       "object_position": null,
       "order": null,
       "overflow": null,
       "overflow_x": null,
       "overflow_y": null,
       "padding": null,
       "right": null,
       "top": null,
       "visibility": null,
       "width": null
      }
     },
     "e9f5736260504c1d8445868913028063": {
      "model_module": "@jupyter-widgets/controls",
      "model_module_version": "1.5.0",
      "model_name": "FloatProgressModel",
      "state": {
       "_dom_classes": [],
       "_model_module": "@jupyter-widgets/controls",
       "_model_module_version": "1.5.0",
       "_model_name": "FloatProgressModel",
       "_view_count": null,
       "_view_module": "@jupyter-widgets/controls",
       "_view_module_version": "1.5.0",
       "_view_name": "ProgressView",
       "bar_style": "success",
       "description": "",
       "description_tooltip": null,
       "layout": "IPY_MODEL_6251d2b8b1694e3ba7641e098efde65a",
       "max": 44868.0,
       "min": 0.0,
       "orientation": "horizontal",
       "style": "IPY_MODEL_cfcd7f848458499e9e2853a814ea1968",
       "value": 44868.0
      }
     },
     "f6632308a0834e128d86a6ecbf7cd83c": {
      "model_module": "@jupyter-widgets/controls",
      "model_module_version": "1.5.0",
      "model_name": "HBoxModel",
      "state": {
       "_dom_classes": [],
       "_model_module": "@jupyter-widgets/controls",
       "_model_module_version": "1.5.0",
       "_model_name": "HBoxModel",
       "_view_count": null,
       "_view_module": "@jupyter-widgets/controls",
       "_view_module_version": "1.5.0",
       "_view_name": "HBoxView",
       "box_style": "",
       "children": [
        "IPY_MODEL_ff8d35f733e540c0bf510ec65362b60e",
        "IPY_MODEL_e9f5736260504c1d8445868913028063",
        "IPY_MODEL_a9ae944686a54485bad684d6ef938f45"
       ],
       "layout": "IPY_MODEL_2f21d8c707384dafb37712e775916a57"
      }
     },
     "ff8d35f733e540c0bf510ec65362b60e": {
      "model_module": "@jupyter-widgets/controls",
      "model_module_version": "1.5.0",
      "model_name": "HTMLModel",
      "state": {
       "_dom_classes": [],
       "_model_module": "@jupyter-widgets/controls",
       "_model_module_version": "1.5.0",
       "_model_name": "HTMLModel",
       "_view_count": null,
       "_view_module": "@jupyter-widgets/controls",
       "_view_module_version": "1.5.0",
       "_view_name": "HTMLView",
       "description": "",
       "description_tooltip": null,
       "layout": "IPY_MODEL_7ba14407848e4eb58903734c463a4e24",
       "placeholder": "​",
       "style": "IPY_MODEL_a7a92e7ffce0452eb6f3bd33aba5b35b",
       "value": "100%"
      }
     }
    },
    "version_major": 2,
    "version_minor": 0
   }
  }
 },
 "nbformat": 4,
 "nbformat_minor": 5
}
