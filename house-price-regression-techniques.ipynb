{
 "cells": [
  {
   "cell_type": "markdown",
   "id": "339151ac",
   "metadata": {
    "papermill": {
     "duration": 0.011789,
     "end_time": "2024-01-14T06:32:48.349117",
     "exception": false,
     "start_time": "2024-01-14T06:32:48.337328",
     "status": "completed"
    },
    "tags": []
   },
   "source": []
  },
  {
   "cell_type": "markdown",
   "id": "84447bfc",
   "metadata": {
    "papermill": {
     "duration": 0.011406,
     "end_time": "2024-01-14T06:32:48.371918",
     "exception": false,
     "start_time": "2024-01-14T06:32:48.360512",
     "status": "completed"
    },
    "tags": []
   },
   "source": [
    "# **Importing Libraries**"
   ]
  },
  {
   "cell_type": "code",
   "execution_count": 1,
   "id": "a31497c1",
   "metadata": {
    "_cell_guid": "b1076dfc-b9ad-4769-8c92-a6c4dae69d19",
    "_uuid": "8f2839f25d086af736a60e9eeb907d3b93b6e0e5",
    "execution": {
     "iopub.execute_input": "2024-01-14T06:32:48.395884Z",
     "iopub.status.busy": "2024-01-14T06:32:48.395560Z",
     "iopub.status.idle": "2024-01-14T06:32:50.202767Z",
     "shell.execute_reply": "2024-01-14T06:32:50.201848Z"
    },
    "papermill": {
     "duration": 1.82204,
     "end_time": "2024-01-14T06:32:50.205233",
     "exception": false,
     "start_time": "2024-01-14T06:32:48.383193",
     "status": "completed"
    },
    "tags": []
   },
   "outputs": [
    {
     "name": "stderr",
     "output_type": "stream",
     "text": [
      "/opt/conda/lib/python3.10/site-packages/scipy/__init__.py:146: UserWarning: A NumPy version >=1.16.5 and <1.23.0 is required for this version of SciPy (detected version 1.24.3\n",
      "  warnings.warn(f\"A NumPy version >={np_minversion} and <{np_maxversion}\"\n"
     ]
    }
   ],
   "source": [
    "import pandas as pd\n",
    "import matplotlib.pyplot as plt\n",
    "import seaborn as sns\n",
    "import numpy as np\n",
    "from scipy.stats import norm\n",
    "from sklearn.preprocessing import StandardScaler\n",
    "from scipy import stats\n",
    "import warnings\n",
    "warnings.filterwarnings('ignore')\n",
    "%matplotlib inline"
   ]
  },
  {
   "cell_type": "markdown",
   "id": "eb4a3549",
   "metadata": {
    "papermill": {
     "duration": 0.012104,
     "end_time": "2024-01-14T06:32:50.229089",
     "exception": false,
     "start_time": "2024-01-14T06:32:50.216985",
     "status": "completed"
    },
    "tags": []
   },
   "source": [
    "# **Preparing The Dataset**"
   ]
  },
  {
   "cell_type": "code",
   "execution_count": 2,
   "id": "eb2cdbb7",
   "metadata": {
    "execution": {
     "iopub.execute_input": "2024-01-14T06:32:50.252957Z",
     "iopub.status.busy": "2024-01-14T06:32:50.252530Z",
     "iopub.status.idle": "2024-01-14T06:32:50.328570Z",
     "shell.execute_reply": "2024-01-14T06:32:50.327651Z"
    },
    "papermill": {
     "duration": 0.090373,
     "end_time": "2024-01-14T06:32:50.330699",
     "exception": false,
     "start_time": "2024-01-14T06:32:50.240326",
     "status": "completed"
    },
    "tags": []
   },
   "outputs": [],
   "source": [
    "df_train = pd.read_csv('../input/house-prices-advanced-regression-techniques/train.csv')\n",
    "df_test = pd.read_csv('../input/house-prices-advanced-regression-techniques/test.csv')\n",
    "ids = df_test['Id'].values"
   ]
  },
  {
   "cell_type": "markdown",
   "id": "ff93b5c2",
   "metadata": {
    "papermill": {
     "duration": 0.011318,
     "end_time": "2024-01-14T06:32:50.353802",
     "exception": false,
     "start_time": "2024-01-14T06:32:50.342484",
     "status": "completed"
    },
    "tags": []
   },
   "source": [
    "# **Exploratory Data Analysis (EDA)**"
   ]
  },
  {
   "cell_type": "code",
   "execution_count": 3,
   "id": "035e97eb",
   "metadata": {
    "execution": {
     "iopub.execute_input": "2024-01-14T06:32:50.378741Z",
     "iopub.status.busy": "2024-01-14T06:32:50.378086Z",
     "iopub.status.idle": "2024-01-14T06:32:50.469787Z",
     "shell.execute_reply": "2024-01-14T06:32:50.468852Z"
    },
    "papermill": {
     "duration": 0.106499,
     "end_time": "2024-01-14T06:32:50.471866",
     "exception": false,
     "start_time": "2024-01-14T06:32:50.365367",
     "status": "completed"
    },
    "tags": []
   },
   "outputs": [
    {
     "data": {
      "text/html": [
       "<div>\n",
       "<style scoped>\n",
       "    .dataframe tbody tr th:only-of-type {\n",
       "        vertical-align: middle;\n",
       "    }\n",
       "\n",
       "    .dataframe tbody tr th {\n",
       "        vertical-align: top;\n",
       "    }\n",
       "\n",
       "    .dataframe thead th {\n",
       "        text-align: right;\n",
       "    }\n",
       "</style>\n",
       "<table border=\"1\" class=\"dataframe\">\n",
       "  <thead>\n",
       "    <tr style=\"text-align: right;\">\n",
       "      <th></th>\n",
       "      <th>Id</th>\n",
       "      <th>MSSubClass</th>\n",
       "      <th>LotFrontage</th>\n",
       "      <th>LotArea</th>\n",
       "      <th>OverallQual</th>\n",
       "      <th>OverallCond</th>\n",
       "      <th>YearBuilt</th>\n",
       "      <th>YearRemodAdd</th>\n",
       "      <th>MasVnrArea</th>\n",
       "      <th>BsmtFinSF1</th>\n",
       "      <th>...</th>\n",
       "      <th>WoodDeckSF</th>\n",
       "      <th>OpenPorchSF</th>\n",
       "      <th>EnclosedPorch</th>\n",
       "      <th>3SsnPorch</th>\n",
       "      <th>ScreenPorch</th>\n",
       "      <th>PoolArea</th>\n",
       "      <th>MiscVal</th>\n",
       "      <th>MoSold</th>\n",
       "      <th>YrSold</th>\n",
       "      <th>SalePrice</th>\n",
       "    </tr>\n",
       "  </thead>\n",
       "  <tbody>\n",
       "    <tr>\n",
       "      <th>count</th>\n",
       "      <td>1460.000000</td>\n",
       "      <td>1460.000000</td>\n",
       "      <td>1201.000000</td>\n",
       "      <td>1460.000000</td>\n",
       "      <td>1460.000000</td>\n",
       "      <td>1460.000000</td>\n",
       "      <td>1460.000000</td>\n",
       "      <td>1460.000000</td>\n",
       "      <td>1452.000000</td>\n",
       "      <td>1460.000000</td>\n",
       "      <td>...</td>\n",
       "      <td>1460.000000</td>\n",
       "      <td>1460.000000</td>\n",
       "      <td>1460.000000</td>\n",
       "      <td>1460.000000</td>\n",
       "      <td>1460.000000</td>\n",
       "      <td>1460.000000</td>\n",
       "      <td>1460.000000</td>\n",
       "      <td>1460.000000</td>\n",
       "      <td>1460.000000</td>\n",
       "      <td>1460.000000</td>\n",
       "    </tr>\n",
       "    <tr>\n",
       "      <th>mean</th>\n",
       "      <td>730.500000</td>\n",
       "      <td>56.897260</td>\n",
       "      <td>70.049958</td>\n",
       "      <td>10516.828082</td>\n",
       "      <td>6.099315</td>\n",
       "      <td>5.575342</td>\n",
       "      <td>1971.267808</td>\n",
       "      <td>1984.865753</td>\n",
       "      <td>103.685262</td>\n",
       "      <td>443.639726</td>\n",
       "      <td>...</td>\n",
       "      <td>94.244521</td>\n",
       "      <td>46.660274</td>\n",
       "      <td>21.954110</td>\n",
       "      <td>3.409589</td>\n",
       "      <td>15.060959</td>\n",
       "      <td>2.758904</td>\n",
       "      <td>43.489041</td>\n",
       "      <td>6.321918</td>\n",
       "      <td>2007.815753</td>\n",
       "      <td>180921.195890</td>\n",
       "    </tr>\n",
       "    <tr>\n",
       "      <th>std</th>\n",
       "      <td>421.610009</td>\n",
       "      <td>42.300571</td>\n",
       "      <td>24.284752</td>\n",
       "      <td>9981.264932</td>\n",
       "      <td>1.382997</td>\n",
       "      <td>1.112799</td>\n",
       "      <td>30.202904</td>\n",
       "      <td>20.645407</td>\n",
       "      <td>181.066207</td>\n",
       "      <td>456.098091</td>\n",
       "      <td>...</td>\n",
       "      <td>125.338794</td>\n",
       "      <td>66.256028</td>\n",
       "      <td>61.119149</td>\n",
       "      <td>29.317331</td>\n",
       "      <td>55.757415</td>\n",
       "      <td>40.177307</td>\n",
       "      <td>496.123024</td>\n",
       "      <td>2.703626</td>\n",
       "      <td>1.328095</td>\n",
       "      <td>79442.502883</td>\n",
       "    </tr>\n",
       "    <tr>\n",
       "      <th>min</th>\n",
       "      <td>1.000000</td>\n",
       "      <td>20.000000</td>\n",
       "      <td>21.000000</td>\n",
       "      <td>1300.000000</td>\n",
       "      <td>1.000000</td>\n",
       "      <td>1.000000</td>\n",
       "      <td>1872.000000</td>\n",
       "      <td>1950.000000</td>\n",
       "      <td>0.000000</td>\n",
       "      <td>0.000000</td>\n",
       "      <td>...</td>\n",
       "      <td>0.000000</td>\n",
       "      <td>0.000000</td>\n",
       "      <td>0.000000</td>\n",
       "      <td>0.000000</td>\n",
       "      <td>0.000000</td>\n",
       "      <td>0.000000</td>\n",
       "      <td>0.000000</td>\n",
       "      <td>1.000000</td>\n",
       "      <td>2006.000000</td>\n",
       "      <td>34900.000000</td>\n",
       "    </tr>\n",
       "    <tr>\n",
       "      <th>25%</th>\n",
       "      <td>365.750000</td>\n",
       "      <td>20.000000</td>\n",
       "      <td>59.000000</td>\n",
       "      <td>7553.500000</td>\n",
       "      <td>5.000000</td>\n",
       "      <td>5.000000</td>\n",
       "      <td>1954.000000</td>\n",
       "      <td>1967.000000</td>\n",
       "      <td>0.000000</td>\n",
       "      <td>0.000000</td>\n",
       "      <td>...</td>\n",
       "      <td>0.000000</td>\n",
       "      <td>0.000000</td>\n",
       "      <td>0.000000</td>\n",
       "      <td>0.000000</td>\n",
       "      <td>0.000000</td>\n",
       "      <td>0.000000</td>\n",
       "      <td>0.000000</td>\n",
       "      <td>5.000000</td>\n",
       "      <td>2007.000000</td>\n",
       "      <td>129975.000000</td>\n",
       "    </tr>\n",
       "    <tr>\n",
       "      <th>50%</th>\n",
       "      <td>730.500000</td>\n",
       "      <td>50.000000</td>\n",
       "      <td>69.000000</td>\n",
       "      <td>9478.500000</td>\n",
       "      <td>6.000000</td>\n",
       "      <td>5.000000</td>\n",
       "      <td>1973.000000</td>\n",
       "      <td>1994.000000</td>\n",
       "      <td>0.000000</td>\n",
       "      <td>383.500000</td>\n",
       "      <td>...</td>\n",
       "      <td>0.000000</td>\n",
       "      <td>25.000000</td>\n",
       "      <td>0.000000</td>\n",
       "      <td>0.000000</td>\n",
       "      <td>0.000000</td>\n",
       "      <td>0.000000</td>\n",
       "      <td>0.000000</td>\n",
       "      <td>6.000000</td>\n",
       "      <td>2008.000000</td>\n",
       "      <td>163000.000000</td>\n",
       "    </tr>\n",
       "    <tr>\n",
       "      <th>75%</th>\n",
       "      <td>1095.250000</td>\n",
       "      <td>70.000000</td>\n",
       "      <td>80.000000</td>\n",
       "      <td>11601.500000</td>\n",
       "      <td>7.000000</td>\n",
       "      <td>6.000000</td>\n",
       "      <td>2000.000000</td>\n",
       "      <td>2004.000000</td>\n",
       "      <td>166.000000</td>\n",
       "      <td>712.250000</td>\n",
       "      <td>...</td>\n",
       "      <td>168.000000</td>\n",
       "      <td>68.000000</td>\n",
       "      <td>0.000000</td>\n",
       "      <td>0.000000</td>\n",
       "      <td>0.000000</td>\n",
       "      <td>0.000000</td>\n",
       "      <td>0.000000</td>\n",
       "      <td>8.000000</td>\n",
       "      <td>2009.000000</td>\n",
       "      <td>214000.000000</td>\n",
       "    </tr>\n",
       "    <tr>\n",
       "      <th>max</th>\n",
       "      <td>1460.000000</td>\n",
       "      <td>190.000000</td>\n",
       "      <td>313.000000</td>\n",
       "      <td>215245.000000</td>\n",
       "      <td>10.000000</td>\n",
       "      <td>9.000000</td>\n",
       "      <td>2010.000000</td>\n",
       "      <td>2010.000000</td>\n",
       "      <td>1600.000000</td>\n",
       "      <td>5644.000000</td>\n",
       "      <td>...</td>\n",
       "      <td>857.000000</td>\n",
       "      <td>547.000000</td>\n",
       "      <td>552.000000</td>\n",
       "      <td>508.000000</td>\n",
       "      <td>480.000000</td>\n",
       "      <td>738.000000</td>\n",
       "      <td>15500.000000</td>\n",
       "      <td>12.000000</td>\n",
       "      <td>2010.000000</td>\n",
       "      <td>755000.000000</td>\n",
       "    </tr>\n",
       "  </tbody>\n",
       "</table>\n",
       "<p>8 rows × 38 columns</p>\n",
       "</div>"
      ],
      "text/plain": [
       "                Id   MSSubClass  LotFrontage        LotArea  OverallQual  \\\n",
       "count  1460.000000  1460.000000  1201.000000    1460.000000  1460.000000   \n",
       "mean    730.500000    56.897260    70.049958   10516.828082     6.099315   \n",
       "std     421.610009    42.300571    24.284752    9981.264932     1.382997   \n",
       "min       1.000000    20.000000    21.000000    1300.000000     1.000000   \n",
       "25%     365.750000    20.000000    59.000000    7553.500000     5.000000   \n",
       "50%     730.500000    50.000000    69.000000    9478.500000     6.000000   \n",
       "75%    1095.250000    70.000000    80.000000   11601.500000     7.000000   \n",
       "max    1460.000000   190.000000   313.000000  215245.000000    10.000000   \n",
       "\n",
       "       OverallCond    YearBuilt  YearRemodAdd   MasVnrArea   BsmtFinSF1  ...  \\\n",
       "count  1460.000000  1460.000000   1460.000000  1452.000000  1460.000000  ...   \n",
       "mean      5.575342  1971.267808   1984.865753   103.685262   443.639726  ...   \n",
       "std       1.112799    30.202904     20.645407   181.066207   456.098091  ...   \n",
       "min       1.000000  1872.000000   1950.000000     0.000000     0.000000  ...   \n",
       "25%       5.000000  1954.000000   1967.000000     0.000000     0.000000  ...   \n",
       "50%       5.000000  1973.000000   1994.000000     0.000000   383.500000  ...   \n",
       "75%       6.000000  2000.000000   2004.000000   166.000000   712.250000  ...   \n",
       "max       9.000000  2010.000000   2010.000000  1600.000000  5644.000000  ...   \n",
       "\n",
       "        WoodDeckSF  OpenPorchSF  EnclosedPorch    3SsnPorch  ScreenPorch  \\\n",
       "count  1460.000000  1460.000000    1460.000000  1460.000000  1460.000000   \n",
       "mean     94.244521    46.660274      21.954110     3.409589    15.060959   \n",
       "std     125.338794    66.256028      61.119149    29.317331    55.757415   \n",
       "min       0.000000     0.000000       0.000000     0.000000     0.000000   \n",
       "25%       0.000000     0.000000       0.000000     0.000000     0.000000   \n",
       "50%       0.000000    25.000000       0.000000     0.000000     0.000000   \n",
       "75%     168.000000    68.000000       0.000000     0.000000     0.000000   \n",
       "max     857.000000   547.000000     552.000000   508.000000   480.000000   \n",
       "\n",
       "          PoolArea       MiscVal       MoSold       YrSold      SalePrice  \n",
       "count  1460.000000   1460.000000  1460.000000  1460.000000    1460.000000  \n",
       "mean      2.758904     43.489041     6.321918  2007.815753  180921.195890  \n",
       "std      40.177307    496.123024     2.703626     1.328095   79442.502883  \n",
       "min       0.000000      0.000000     1.000000  2006.000000   34900.000000  \n",
       "25%       0.000000      0.000000     5.000000  2007.000000  129975.000000  \n",
       "50%       0.000000      0.000000     6.000000  2008.000000  163000.000000  \n",
       "75%       0.000000      0.000000     8.000000  2009.000000  214000.000000  \n",
       "max     738.000000  15500.000000    12.000000  2010.000000  755000.000000  \n",
       "\n",
       "[8 rows x 38 columns]"
      ]
     },
     "execution_count": 3,
     "metadata": {},
     "output_type": "execute_result"
    }
   ],
   "source": [
    "df_train.describe()"
   ]
  },
  {
   "cell_type": "code",
   "execution_count": 4,
   "id": "ac6275f0",
   "metadata": {
    "execution": {
     "iopub.execute_input": "2024-01-14T06:32:50.496399Z",
     "iopub.status.busy": "2024-01-14T06:32:50.496154Z",
     "iopub.status.idle": "2024-01-14T06:32:50.502658Z",
     "shell.execute_reply": "2024-01-14T06:32:50.501879Z"
    },
    "papermill": {
     "duration": 0.020999,
     "end_time": "2024-01-14T06:32:50.504663",
     "exception": false,
     "start_time": "2024-01-14T06:32:50.483664",
     "status": "completed"
    },
    "tags": []
   },
   "outputs": [
    {
     "data": {
      "text/plain": [
       "Index(['Id', 'MSSubClass', 'MSZoning', 'LotFrontage', 'LotArea', 'Street',\n",
       "       'Alley', 'LotShape', 'LandContour', 'Utilities', 'LotConfig',\n",
       "       'LandSlope', 'Neighborhood', 'Condition1', 'Condition2', 'BldgType',\n",
       "       'HouseStyle', 'OverallQual', 'OverallCond', 'YearBuilt', 'YearRemodAdd',\n",
       "       'RoofStyle', 'RoofMatl', 'Exterior1st', 'Exterior2nd', 'MasVnrType',\n",
       "       'MasVnrArea', 'ExterQual', 'ExterCond', 'Foundation', 'BsmtQual',\n",
       "       'BsmtCond', 'BsmtExposure', 'BsmtFinType1', 'BsmtFinSF1',\n",
       "       'BsmtFinType2', 'BsmtFinSF2', 'BsmtUnfSF', 'TotalBsmtSF', 'Heating',\n",
       "       'HeatingQC', 'CentralAir', 'Electrical', '1stFlrSF', '2ndFlrSF',\n",
       "       'LowQualFinSF', 'GrLivArea', 'BsmtFullBath', 'BsmtHalfBath', 'FullBath',\n",
       "       'HalfBath', 'BedroomAbvGr', 'KitchenAbvGr', 'KitchenQual',\n",
       "       'TotRmsAbvGrd', 'Functional', 'Fireplaces', 'FireplaceQu', 'GarageType',\n",
       "       'GarageYrBlt', 'GarageFinish', 'GarageCars', 'GarageArea', 'GarageQual',\n",
       "       'GarageCond', 'PavedDrive', 'WoodDeckSF', 'OpenPorchSF',\n",
       "       'EnclosedPorch', '3SsnPorch', 'ScreenPorch', 'PoolArea', 'PoolQC',\n",
       "       'Fence', 'MiscFeature', 'MiscVal', 'MoSold', 'YrSold', 'SaleType',\n",
       "       'SaleCondition', 'SalePrice'],\n",
       "      dtype='object')"
      ]
     },
     "execution_count": 4,
     "metadata": {},
     "output_type": "execute_result"
    }
   ],
   "source": [
    "df_train.columns"
   ]
  },
  {
   "cell_type": "code",
   "execution_count": 5,
   "id": "522d00dd",
   "metadata": {
    "execution": {
     "iopub.execute_input": "2024-01-14T06:32:50.530562Z",
     "iopub.status.busy": "2024-01-14T06:32:50.530081Z",
     "iopub.status.idle": "2024-01-14T06:32:50.538735Z",
     "shell.execute_reply": "2024-01-14T06:32:50.537868Z"
    },
    "papermill": {
     "duration": 0.023526,
     "end_time": "2024-01-14T06:32:50.540633",
     "exception": false,
     "start_time": "2024-01-14T06:32:50.517107",
     "status": "completed"
    },
    "tags": []
   },
   "outputs": [
    {
     "data": {
      "text/plain": [
       "count      1460.000000\n",
       "mean     180921.195890\n",
       "std       79442.502883\n",
       "min       34900.000000\n",
       "25%      129975.000000\n",
       "50%      163000.000000\n",
       "75%      214000.000000\n",
       "max      755000.000000\n",
       "Name: SalePrice, dtype: float64"
      ]
     },
     "execution_count": 5,
     "metadata": {},
     "output_type": "execute_result"
    }
   ],
   "source": [
    "df_train['SalePrice'].describe()"
   ]
  },
  {
   "cell_type": "code",
   "execution_count": 6,
   "id": "7cc99007",
   "metadata": {
    "execution": {
     "iopub.execute_input": "2024-01-14T06:32:50.566461Z",
     "iopub.status.busy": "2024-01-14T06:32:50.566216Z",
     "iopub.status.idle": "2024-01-14T06:32:50.937729Z",
     "shell.execute_reply": "2024-01-14T06:32:50.936776Z"
    },
    "papermill": {
     "duration": 0.386712,
     "end_time": "2024-01-14T06:32:50.939871",
     "exception": false,
     "start_time": "2024-01-14T06:32:50.553159",
     "status": "completed"
    },
    "tags": []
   },
   "outputs": [
    {
     "data": {
      "text/plain": [
       "<Axes: xlabel='SalePrice', ylabel='Density'>"
      ]
     },
     "execution_count": 6,
     "metadata": {},
     "output_type": "execute_result"
    },
    {
     "data": {
      "image/png": "[encoded data removed]",
      "text/plain": [
       "<Figure size 640x480 with 1 Axes>"
      ]
     },
     "metadata": {},
     "output_type": "display_data"
    }
   ],
   "source": [
    "sns.distplot(df_train['SalePrice'])"
   ]
  },
  {
   "cell_type": "code",
   "execution_count": 7,
   "id": "1446f6d8",
   "metadata": {
    "execution": {
     "iopub.execute_input": "2024-01-14T06:32:51.010000Z",
     "iopub.status.busy": "2024-01-14T06:32:51.009301Z",
     "iopub.status.idle": "2024-01-14T06:32:51.015708Z",
     "shell.execute_reply": "2024-01-14T06:32:51.014752Z"
    },
    "papermill": {
     "duration": 0.022105,
     "end_time": "2024-01-14T06:32:51.017618",
     "exception": false,
     "start_time": "2024-01-14T06:32:50.995513",
     "status": "completed"
    },
    "tags": []
   },
   "outputs": [],
   "source": [
    "y_train = df_train.SalePrice.values\n",
    "x_train = df_train.drop('SalePrice', axis=1)"
   ]
  },
  {
   "cell_type": "markdown",
   "id": "e56df1cf",
   "metadata": {
    "papermill": {
     "duration": 0.012291,
     "end_time": "2024-01-14T06:32:51.042442",
     "exception": false,
     "start_time": "2024-01-14T06:32:51.030151",
     "status": "completed"
    },
    "tags": []
   },
   "source": [
    "# **Data Visualization**"
   ]
  },
  {
   "cell_type": "code",
   "execution_count": 8,
   "id": "8c8a75b9",
   "metadata": {
    "execution": {
     "iopub.execute_input": "2024-01-14T06:32:51.069724Z",
     "iopub.status.busy": "2024-01-14T06:32:51.069443Z",
     "iopub.status.idle": "2024-01-14T06:32:51.442365Z",
     "shell.execute_reply": "2024-01-14T06:32:51.441454Z"
    },
    "papermill": {
     "duration": 0.389159,
     "end_time": "2024-01-14T06:32:51.444267",
     "exception": false,
     "start_time": "2024-01-14T06:32:51.055108",
     "status": "completed"
    },
    "tags": []
   },
   "outputs": [
    {
     "data": {
      "text/plain": [
       "<Axes: xlabel='OverallQual', ylabel='SalePrice'>"
      ]
     },
     "execution_count": 8,
     "metadata": {},
     "output_type": "execute_result"
    },
    {
     "data": {
      "image/png": "[encoded data removed]",
      "text/plain": [
       "<Figure size 800x600 with 1 Axes>"
      ]
     },
     "metadata": {},
     "output_type": "display_data"
    }
   ],
   "source": [
    "data = pd.concat([df_train['SalePrice'], df_train['OverallQual']], axis=1)\n",
    "plt.figure(figsize=(8, 6))\n",
    "sns.boxplot(x='OverallQual', y=\"SalePrice\", data=data)"
   ]
  },
  {
   "cell_type": "code",
   "execution_count": 9,
   "id": "b72dfdaf",
   "metadata": {
    "execution": {
     "iopub.execute_input": "2024-01-14T06:32:51.472370Z",
     "iopub.status.busy": "2024-01-14T06:32:51.472082Z",
     "iopub.status.idle": "2024-01-14T06:32:51.763930Z",
     "shell.execute_reply": "2024-01-14T06:32:51.763020Z"
    },
    "papermill": {
     "duration": 0.307998,
     "end_time": "2024-01-14T06:32:51.765919",
     "exception": false,
     "start_time": "2024-01-14T06:32:51.457921",
     "status": "completed"
    },
    "tags": []
   },
   "outputs": [
    {
     "data": {
      "text/plain": [
       "<Axes: xlabel='GrLivArea', ylabel='SalePrice'>"
      ]
     },
     "execution_count": 9,
     "metadata": {},
     "output_type": "execute_result"
    },
    {
     "data": {
      "image/png": "[encoded data removed]",
      "text/plain": [
       "<Figure size 640x480 with 1 Axes>"
      ]
     },
     "metadata": {},
     "output_type": "display_data"
    }
   ],
   "source": [
    "data = pd.concat([df_train['SalePrice'], df_train['GrLivArea']], axis=1)\n",
    "data.plot.scatter(x='GrLivArea', y='SalePrice')"
   ]
  },
  {
   "cell_type": "code",
   "execution_count": 10,
   "id": "33ba8289",
   "metadata": {
    "execution": {
     "iopub.execute_input": "2024-01-14T06:32:51.795144Z",
     "iopub.status.busy": "2024-01-14T06:32:51.794805Z",
     "iopub.status.idle": "2024-01-14T06:32:52.089314Z",
     "shell.execute_reply": "2024-01-14T06:32:52.088520Z"
    },
    "papermill": {
     "duration": 0.31174,
     "end_time": "2024-01-14T06:32:52.091779",
     "exception": false,
     "start_time": "2024-01-14T06:32:51.780039",
     "status": "completed"
    },
    "tags": []
   },
   "outputs": [
    {
     "data": {
      "text/plain": [
       "<Axes: xlabel='TotalBsmtSF', ylabel='SalePrice'>"
      ]
     },
     "execution_count": 10,
     "metadata": {},
     "output_type": "execute_result"
    },
    {
     "data": {
      "image/png": "[encoded data removed]",
      "text/plain": [
       "<Figure size 640x480 with 1 Axes>"
      ]
     },
     "metadata": {},
     "output_type": "display_data"
    }
   ],
   "source": [
    "data = pd.concat([df_train['SalePrice'], df_train['TotalBsmtSF']], axis=1)\n",
    "data.plot.scatter(x='TotalBsmtSF', y='SalePrice')"
   ]
  },
  {
   "cell_type": "code",
   "execution_count": 11,
   "id": "f214b471",
   "metadata": {
    "execution": {
     "iopub.execute_input": "2024-01-14T06:32:52.122855Z",
     "iopub.status.busy": "2024-01-14T06:32:52.122532Z",
     "iopub.status.idle": "2024-01-14T06:32:52.786450Z",
     "shell.execute_reply": "2024-01-14T06:32:52.785573Z"
    },
    "papermill": {
     "duration": 0.681491,
     "end_time": "2024-01-14T06:32:52.788531",
     "exception": false,
     "start_time": "2024-01-14T06:32:52.107040",
     "status": "completed"
    },
    "tags": []
   },
   "outputs": [
    {
     "data": {
      "text/plain": [
       "<Axes: xlabel='Neighborhood', ylabel='SalePrice'>"
      ]
     },
     "execution_count": 11,
     "metadata": {},
     "output_type": "execute_result"
    },
    {
     "data": {
      "image/png": "[encoded data removed]",
      "text/plain": [
       "<Figure size 2000x600 with 1 Axes>"
      ]
     },
     "metadata": {},
     "output_type": "display_data"
    }
   ],
   "source": [
    "data = pd.concat([df_train['SalePrice'], df_train['Neighborhood']], axis=1)\n",
    "plt.figure(figsize=(20, 6))\n",
    "sns.boxplot(x='Neighborhood', y=\"SalePrice\", data=data)"
   ]
  },
  {
   "cell_type": "code",
   "execution_count": 12,
   "id": "d34c9f87",
   "metadata": {
    "execution": {
     "iopub.execute_input": "2024-01-14T06:32:52.821272Z",
     "iopub.status.busy": "2024-01-14T06:32:52.820969Z",
     "iopub.status.idle": "2024-01-14T06:32:53.663737Z",
     "shell.execute_reply": "2024-01-14T06:32:53.662664Z"
    },
    "papermill": {
     "duration": 0.865302,
     "end_time": "2024-01-14T06:32:53.669853",
     "exception": false,
     "start_time": "2024-01-14T06:32:52.804551",
     "status": "completed"
    },
    "tags": []
   },
   "outputs": [
    {
     "data": {
      "image/png": "[encoded data removed]",
      "text/plain": [
       "<Figure size 1200x1200 with 2 Axes>"
      ]
     },
     "metadata": {},
     "output_type": "display_data"
    }
   ],
   "source": [
    "# Drop non-numeric columns\n",
    "numeric_df = df_train.select_dtypes(include=[np.number])\n",
    "\n",
    "# Calculate correlation matrix\n",
    "corrmat = numeric_df.corr()\n",
    "\n",
    "# Plot heatmap\n",
    "plt.figure(figsize=(12, 12))\n",
    "sns.heatmap(corrmat, vmax=.8, square=True)\n",
    "plt.show()\n"
   ]
  },
  {
   "cell_type": "markdown",
   "id": "2f71607e",
   "metadata": {
    "papermill": {
     "duration": 0.017506,
     "end_time": "2024-01-14T06:32:53.710619",
     "exception": false,
     "start_time": "2024-01-14T06:32:53.693113",
     "status": "completed"
    },
    "tags": []
   },
   "source": [
    "# **Data Cleansing and Preparing**"
   ]
  },
  {
   "cell_type": "code",
   "execution_count": 13,
   "id": "8cc06460",
   "metadata": {
    "execution": {
     "iopub.execute_input": "2024-01-14T06:32:53.746563Z",
     "iopub.status.busy": "2024-01-14T06:32:53.746252Z",
     "iopub.status.idle": "2024-01-14T06:32:53.776970Z",
     "shell.execute_reply": "2024-01-14T06:32:53.776129Z"
    },
    "papermill": {
     "duration": 0.051001,
     "end_time": "2024-01-14T06:32:53.778813",
     "exception": false,
     "start_time": "2024-01-14T06:32:53.727812",
     "status": "completed"
    },
    "tags": []
   },
   "outputs": [
    {
     "data": {
      "text/html": [
       "<div>\n",
       "<style scoped>\n",
       "    .dataframe tbody tr th:only-of-type {\n",
       "        vertical-align: middle;\n",
       "    }\n",
       "\n",
       "    .dataframe tbody tr th {\n",
       "        vertical-align: top;\n",
       "    }\n",
       "\n",
       "    .dataframe thead th {\n",
       "        text-align: right;\n",
       "    }\n",
       "</style>\n",
       "<table border=\"1\" class=\"dataframe\">\n",
       "  <thead>\n",
       "    <tr style=\"text-align: right;\">\n",
       "      <th></th>\n",
       "      <th>Total</th>\n",
       "      <th>Percent</th>\n",
       "    </tr>\n",
       "  </thead>\n",
       "  <tbody>\n",
       "    <tr>\n",
       "      <th>PoolQC</th>\n",
       "      <td>1453</td>\n",
       "      <td>0.995205</td>\n",
       "    </tr>\n",
       "    <tr>\n",
       "      <th>MiscFeature</th>\n",
       "      <td>1406</td>\n",
       "      <td>0.963014</td>\n",
       "    </tr>\n",
       "    <tr>\n",
       "      <th>Alley</th>\n",
       "      <td>1369</td>\n",
       "      <td>0.937671</td>\n",
       "    </tr>\n",
       "    <tr>\n",
       "      <th>Fence</th>\n",
       "      <td>1179</td>\n",
       "      <td>0.807534</td>\n",
       "    </tr>\n",
       "    <tr>\n",
       "      <th>MasVnrType</th>\n",
       "      <td>872</td>\n",
       "      <td>0.597260</td>\n",
       "    </tr>\n",
       "    <tr>\n",
       "      <th>FireplaceQu</th>\n",
       "      <td>690</td>\n",
       "      <td>0.472603</td>\n",
       "    </tr>\n",
       "    <tr>\n",
       "      <th>LotFrontage</th>\n",
       "      <td>259</td>\n",
       "      <td>0.177397</td>\n",
       "    </tr>\n",
       "    <tr>\n",
       "      <th>GarageYrBlt</th>\n",
       "      <td>81</td>\n",
       "      <td>0.055479</td>\n",
       "    </tr>\n",
       "    <tr>\n",
       "      <th>GarageCond</th>\n",
       "      <td>81</td>\n",
       "      <td>0.055479</td>\n",
       "    </tr>\n",
       "    <tr>\n",
       "      <th>GarageType</th>\n",
       "      <td>81</td>\n",
       "      <td>0.055479</td>\n",
       "    </tr>\n",
       "    <tr>\n",
       "      <th>GarageFinish</th>\n",
       "      <td>81</td>\n",
       "      <td>0.055479</td>\n",
       "    </tr>\n",
       "    <tr>\n",
       "      <th>GarageQual</th>\n",
       "      <td>81</td>\n",
       "      <td>0.055479</td>\n",
       "    </tr>\n",
       "    <tr>\n",
       "      <th>BsmtFinType2</th>\n",
       "      <td>38</td>\n",
       "      <td>0.026027</td>\n",
       "    </tr>\n",
       "    <tr>\n",
       "      <th>BsmtExposure</th>\n",
       "      <td>38</td>\n",
       "      <td>0.026027</td>\n",
       "    </tr>\n",
       "    <tr>\n",
       "      <th>BsmtQual</th>\n",
       "      <td>37</td>\n",
       "      <td>0.025342</td>\n",
       "    </tr>\n",
       "    <tr>\n",
       "      <th>BsmtCond</th>\n",
       "      <td>37</td>\n",
       "      <td>0.025342</td>\n",
       "    </tr>\n",
       "    <tr>\n",
       "      <th>BsmtFinType1</th>\n",
       "      <td>37</td>\n",
       "      <td>0.025342</td>\n",
       "    </tr>\n",
       "    <tr>\n",
       "      <th>MasVnrArea</th>\n",
       "      <td>8</td>\n",
       "      <td>0.005479</td>\n",
       "    </tr>\n",
       "    <tr>\n",
       "      <th>Electrical</th>\n",
       "      <td>1</td>\n",
       "      <td>0.000685</td>\n",
       "    </tr>\n",
       "    <tr>\n",
       "      <th>Id</th>\n",
       "      <td>0</td>\n",
       "      <td>0.000000</td>\n",
       "    </tr>\n",
       "  </tbody>\n",
       "</table>\n",
       "</div>"
      ],
      "text/plain": [
       "              Total   Percent\n",
       "PoolQC         1453  0.995205\n",
       "MiscFeature    1406  0.963014\n",
       "Alley          1369  0.937671\n",
       "Fence          1179  0.807534\n",
       "MasVnrType      872  0.597260\n",
       "FireplaceQu     690  0.472603\n",
       "LotFrontage     259  0.177397\n",
       "GarageYrBlt      81  0.055479\n",
       "GarageCond       81  0.055479\n",
       "GarageType       81  0.055479\n",
       "GarageFinish     81  0.055479\n",
       "GarageQual       81  0.055479\n",
       "BsmtFinType2     38  0.026027\n",
       "BsmtExposure     38  0.026027\n",
       "BsmtQual         37  0.025342\n",
       "BsmtCond         37  0.025342\n",
       "BsmtFinType1     37  0.025342\n",
       "MasVnrArea        8  0.005479\n",
       "Electrical        1  0.000685\n",
       "Id                0  0.000000"
      ]
     },
     "execution_count": 13,
     "metadata": {},
     "output_type": "execute_result"
    }
   ],
   "source": [
    "total = df_train.isnull().sum().sort_values(ascending=False)\n",
    "percent = (df_train.isnull().sum()/df_train.isnull().count()).sort_values(ascending=False)\n",
    "missing_data = pd.concat([total, percent], axis=1, keys=['Total', 'Percent'])\n",
    "missing_data.head(20)"
   ]
  },
  {
   "cell_type": "code",
   "execution_count": 14,
   "id": "cf51e990",
   "metadata": {
    "execution": {
     "iopub.execute_input": "2024-01-14T06:32:53.814441Z",
     "iopub.status.busy": "2024-01-14T06:32:53.814161Z",
     "iopub.status.idle": "2024-01-14T06:32:53.878250Z",
     "shell.execute_reply": "2024-01-14T06:32:53.877374Z"
    },
    "papermill": {
     "duration": 0.084178,
     "end_time": "2024-01-14T06:32:53.880263",
     "exception": false,
     "start_time": "2024-01-14T06:32:53.796085",
     "status": "completed"
    },
    "tags": []
   },
   "outputs": [
    {
     "data": {
      "text/plain": [
       "0"
      ]
     },
     "execution_count": 14,
     "metadata": {},
     "output_type": "execute_result"
    }
   ],
   "source": [
    "# Drop columns with more than 81 missing values\n",
    "cols_to_drop = missing_data[missing_data['Total'] > 81].index\n",
    "x_train = x_train.drop(cols_to_drop, axis=1)\n",
    "\n",
    "# Fill missing values with the most common value in each column\n",
    "x_train = x_train.apply(lambda x: x.fillna(x.value_counts().index[0]))\n",
    "\n",
    "# Check for remaining missing values\n",
    "x_train.isnull().sum().max()"
   ]
  },
  {
   "cell_type": "code",
   "execution_count": 15,
   "id": "ea05ace1",
   "metadata": {
    "execution": {
     "iopub.execute_input": "2024-01-14T06:32:53.917113Z",
     "iopub.status.busy": "2024-01-14T06:32:53.916799Z",
     "iopub.status.idle": "2024-01-14T06:32:53.921930Z",
     "shell.execute_reply": "2024-01-14T06:32:53.921137Z"
    },
    "papermill": {
     "duration": 0.025719,
     "end_time": "2024-01-14T06:32:53.924036",
     "exception": false,
     "start_time": "2024-01-14T06:32:53.898317",
     "status": "completed"
    },
    "tags": []
   },
   "outputs": [
    {
     "data": {
      "text/plain": [
       "(1460, 73)"
      ]
     },
     "execution_count": 15,
     "metadata": {},
     "output_type": "execute_result"
    }
   ],
   "source": [
    "x_train.shape"
   ]
  },
  {
   "cell_type": "code",
   "execution_count": 16,
   "id": "6a596abc",
   "metadata": {
    "execution": {
     "iopub.execute_input": "2024-01-14T06:32:53.964978Z",
     "iopub.status.busy": "2024-01-14T06:32:53.964620Z",
     "iopub.status.idle": "2024-01-14T06:32:53.989306Z",
     "shell.execute_reply": "2024-01-14T06:32:53.987061Z"
    },
    "papermill": {
     "duration": 0.046902,
     "end_time": "2024-01-14T06:32:53.991685",
     "exception": false,
     "start_time": "2024-01-14T06:32:53.944783",
     "status": "completed"
    },
    "tags": []
   },
   "outputs": [
    {
     "name": "stdout",
     "output_type": "stream",
     "text": [
      "<class 'pandas.core.frame.DataFrame'>\n",
      "RangeIndex: 1459 entries, 0 to 1458\n",
      "Data columns (total 80 columns):\n",
      " #   Column         Non-Null Count  Dtype  \n",
      "---  ------         --------------  -----  \n",
      " 0   Id             1459 non-null   int64  \n",
      " 1   MSSubClass     1459 non-null   int64  \n",
      " 2   MSZoning       1455 non-null   object \n",
      " 3   LotFrontage    1232 non-null   float64\n",
      " 4   LotArea        1459 non-null   int64  \n",
      " 5   Street         1459 non-null   object \n",
      " 6   Alley          107 non-null    object \n",
      " 7   LotShape       1459 non-null   object \n",
      " 8   LandContour    1459 non-null   object \n",
      " 9   Utilities      1457 non-null   object \n",
      " 10  LotConfig      1459 non-null   object \n",
      " 11  LandSlope      1459 non-null   object \n",
      " 12  Neighborhood   1459 non-null   object \n",
      " 13  Condition1     1459 non-null   object \n",
      " 14  Condition2     1459 non-null   object \n",
      " 15  BldgType       1459 non-null   object \n",
      " 16  HouseStyle     1459 non-null   object \n",
      " 17  OverallQual    1459 non-null   int64  \n",
      " 18  OverallCond    1459 non-null   int64  \n",
      " 19  YearBuilt      1459 non-null   int64  \n",
      " 20  YearRemodAdd   1459 non-null   int64  \n",
      " 21  RoofStyle      1459 non-null   object \n",
      " 22  RoofMatl       1459 non-null   object \n",
      " 23  Exterior1st    1458 non-null   object \n",
      " 24  Exterior2nd    1458 non-null   object \n",
      " 25  MasVnrType     565 non-null    object \n",
      " 26  MasVnrArea     1444 non-null   float64\n",
      " 27  ExterQual      1459 non-null   object \n",
      " 28  ExterCond      1459 non-null   object \n",
      " 29  Foundation     1459 non-null   object \n",
      " 30  BsmtQual       1415 non-null   object \n",
      " 31  BsmtCond       1414 non-null   object \n",
      " 32  BsmtExposure   1415 non-null   object \n",
      " 33  BsmtFinType1   1417 non-null   object \n",
      " 34  BsmtFinSF1     1458 non-null   float64\n",
      " 35  BsmtFinType2   1417 non-null   object \n",
      " 36  BsmtFinSF2     1458 non-null   float64\n",
      " 37  BsmtUnfSF      1458 non-null   float64\n",
      " 38  TotalBsmtSF    1458 non-null   float64\n",
      " 39  Heating        1459 non-null   object \n",
      " 40  HeatingQC      1459 non-null   object \n",
      " 41  CentralAir     1459 non-null   object \n",
      " 42  Electrical     1459 non-null   object \n",
      " 43  1stFlrSF       1459 non-null   int64  \n",
      " 44  2ndFlrSF       1459 non-null   int64  \n",
      " 45  LowQualFinSF   1459 non-null   int64  \n",
      " 46  GrLivArea      1459 non-null   int64  \n",
      " 47  BsmtFullBath   1457 non-null   float64\n",
      " 48  BsmtHalfBath   1457 non-null   float64\n",
      " 49  FullBath       1459 non-null   int64  \n",
      " 50  HalfBath       1459 non-null   int64  \n",
      " 51  BedroomAbvGr   1459 non-null   int64  \n",
      " 52  KitchenAbvGr   1459 non-null   int64  \n",
      " 53  KitchenQual    1458 non-null   object \n",
      " 54  TotRmsAbvGrd   1459 non-null   int64  \n",
      " 55  Functional     1457 non-null   object \n",
      " 56  Fireplaces     1459 non-null   int64  \n",
      " 57  FireplaceQu    729 non-null    object \n",
      " 58  GarageType     1383 non-null   object \n",
      " 59  GarageYrBlt    1381 non-null   float64\n",
      " 60  GarageFinish   1381 non-null   object \n",
      " 61  GarageCars     1458 non-null   float64\n",
      " 62  GarageArea     1458 non-null   float64\n",
      " 63  GarageQual     1381 non-null   object \n",
      " 64  GarageCond     1381 non-null   object \n",
      " 65  PavedDrive     1459 non-null   object \n",
      " 66  WoodDeckSF     1459 non-null   int64  \n",
      " 67  OpenPorchSF    1459 non-null   int64  \n",
      " 68  EnclosedPorch  1459 non-null   int64  \n",
      " 69  3SsnPorch      1459 non-null   int64  \n",
      " 70  ScreenPorch    1459 non-null   int64  \n",
      " 71  PoolArea       1459 non-null   int64  \n",
      " 72  PoolQC         3 non-null      object \n",
      " 73  Fence          290 non-null    object \n",
      " 74  MiscFeature    51 non-null     object \n",
      " 75  MiscVal        1459 non-null   int64  \n",
      " 76  MoSold         1459 non-null   int64  \n",
      " 77  YrSold         1459 non-null   int64  \n",
      " 78  SaleType       1458 non-null   object \n",
      " 79  SaleCondition  1459 non-null   object \n",
      "dtypes: float64(11), int64(26), object(43)\n",
      "memory usage: 912.0+ KB\n"
     ]
    }
   ],
   "source": [
    "df_test.info()"
   ]
  },
  {
   "cell_type": "code",
   "execution_count": 17,
   "id": "9bffc2f1",
   "metadata": {
    "execution": {
     "iopub.execute_input": "2024-01-14T06:32:54.028925Z",
     "iopub.status.busy": "2024-01-14T06:32:54.028643Z",
     "iopub.status.idle": "2024-01-14T06:32:54.093241Z",
     "shell.execute_reply": "2024-01-14T06:32:54.092364Z"
    },
    "papermill": {
     "duration": 0.084908,
     "end_time": "2024-01-14T06:32:54.095061",
     "exception": false,
     "start_time": "2024-01-14T06:32:54.010153",
     "status": "completed"
    },
    "tags": []
   },
   "outputs": [
    {
     "data": {
      "text/plain": [
       "0"
      ]
     },
     "execution_count": 17,
     "metadata": {},
     "output_type": "execute_result"
    }
   ],
   "source": [
    "# Drop columns with more than 81 missing values\n",
    "cols_to_drop_test = missing_data[missing_data['Total'] > 81].index\n",
    "df_test = df_test.drop(cols_to_drop_test, axis=1)\n",
    "\n",
    "# Fill missing values with the most common value in each column\n",
    "df_test = df_test.apply(lambda x: x.fillna(x.value_counts().index[0]))\n",
    "\n",
    "# Check for remaining missing values\n",
    "df_test.isnull().sum().max()\n"
   ]
  },
  {
   "cell_type": "code",
   "execution_count": 18,
   "id": "feb5129f",
   "metadata": {
    "execution": {
     "iopub.execute_input": "2024-01-14T06:32:54.133148Z",
     "iopub.status.busy": "2024-01-14T06:32:54.132874Z",
     "iopub.status.idle": "2024-01-14T06:32:54.140056Z",
     "shell.execute_reply": "2024-01-14T06:32:54.139240Z"
    },
    "papermill": {
     "duration": 0.028216,
     "end_time": "2024-01-14T06:32:54.141966",
     "exception": false,
     "start_time": "2024-01-14T06:32:54.113750",
     "status": "completed"
    },
    "tags": []
   },
   "outputs": [],
   "source": [
    "x_train.drop(\"Id\", axis = 1, inplace = True)\n",
    "df_test.drop(\"Id\", axis = 1, inplace = True)"
   ]
  },
  {
   "cell_type": "code",
   "execution_count": 19,
   "id": "f690d1f0",
   "metadata": {
    "execution": {
     "iopub.execute_input": "2024-01-14T06:32:54.179461Z",
     "iopub.status.busy": "2024-01-14T06:32:54.179194Z",
     "iopub.status.idle": "2024-01-14T06:32:54.184477Z",
     "shell.execute_reply": "2024-01-14T06:32:54.183644Z"
    },
    "papermill": {
     "duration": 0.026434,
     "end_time": "2024-01-14T06:32:54.186364",
     "exception": false,
     "start_time": "2024-01-14T06:32:54.159930",
     "status": "completed"
    },
    "tags": []
   },
   "outputs": [
    {
     "data": {
      "text/plain": [
       "(1460, 72)"
      ]
     },
     "execution_count": 19,
     "metadata": {},
     "output_type": "execute_result"
    }
   ],
   "source": [
    "x_train.shape"
   ]
  },
  {
   "cell_type": "code",
   "execution_count": 20,
   "id": "6550b903",
   "metadata": {
    "execution": {
     "iopub.execute_input": "2024-01-14T06:32:54.224468Z",
     "iopub.status.busy": "2024-01-14T06:32:54.223721Z",
     "iopub.status.idle": "2024-01-14T06:32:54.230414Z",
     "shell.execute_reply": "2024-01-14T06:32:54.229652Z"
    },
    "papermill": {
     "duration": 0.02757,
     "end_time": "2024-01-14T06:32:54.232237",
     "exception": false,
     "start_time": "2024-01-14T06:32:54.204667",
     "status": "completed"
    },
    "tags": []
   },
   "outputs": [
    {
     "data": {
      "text/plain": [
       "Index(['MSZoning', 'Street', 'LotShape', 'LandContour', 'Utilities',\n",
       "       'LotConfig', 'LandSlope', 'Neighborhood', 'Condition1', 'Condition2',\n",
       "       'BldgType', 'HouseStyle', 'RoofStyle', 'RoofMatl', 'Exterior1st',\n",
       "       'Exterior2nd', 'ExterQual', 'ExterCond', 'Foundation', 'BsmtQual',\n",
       "       'BsmtCond', 'BsmtExposure', 'BsmtFinType1', 'BsmtFinType2', 'Heating',\n",
       "       'HeatingQC', 'CentralAir', 'Electrical', 'KitchenQual', 'Functional',\n",
       "       'GarageType', 'GarageFinish', 'GarageQual', 'GarageCond', 'PavedDrive',\n",
       "       'SaleType', 'SaleCondition'],\n",
       "      dtype='object')"
      ]
     },
     "execution_count": 20,
     "metadata": {},
     "output_type": "execute_result"
    }
   ],
   "source": [
    "x_train.select_dtypes(include='object').columns"
   ]
  },
  {
   "cell_type": "code",
   "execution_count": 21,
   "id": "ddaf2ae5",
   "metadata": {
    "execution": {
     "iopub.execute_input": "2024-01-14T06:32:54.269649Z",
     "iopub.status.busy": "2024-01-14T06:32:54.269392Z",
     "iopub.status.idle": "2024-01-14T06:32:54.410669Z",
     "shell.execute_reply": "2024-01-14T06:32:54.409487Z"
    },
    "papermill": {
     "duration": 0.162469,
     "end_time": "2024-01-14T06:32:54.412813",
     "exception": false,
     "start_time": "2024-01-14T06:32:54.250344",
     "status": "completed"
    },
    "tags": []
   },
   "outputs": [
    {
     "name": "stdout",
     "output_type": "stream",
     "text": [
      "Shape all_data: (1460, 72)\n"
     ]
    }
   ],
   "source": [
    "from sklearn.preprocessing import LabelEncoder\n",
    "cols = x_train.select_dtypes(include='object').columns\n",
    "\n",
    "for c in cols:\n",
    "    lbl = LabelEncoder() \n",
    "    lbl.fit(list(x_train[c].values)) \n",
    "    x_train[c] = lbl.transform(list(x_train[c].values))\n",
    "    df_test[c] = lbl.transform(list(df_test[c].values))\n",
    "\n",
    "print('Shape all_data: {}'.format(x_train.shape))"
   ]
  },
  {
   "cell_type": "code",
   "execution_count": 22,
   "id": "cc0bfc1f",
   "metadata": {
    "execution": {
     "iopub.execute_input": "2024-01-14T06:32:54.453813Z",
     "iopub.status.busy": "2024-01-14T06:32:54.453509Z",
     "iopub.status.idle": "2024-01-14T06:32:54.465983Z",
     "shell.execute_reply": "2024-01-14T06:32:54.465012Z"
    },
    "papermill": {
     "duration": 0.03528,
     "end_time": "2024-01-14T06:32:54.468043",
     "exception": false,
     "start_time": "2024-01-14T06:32:54.432763",
     "status": "completed"
    },
    "tags": []
   },
   "outputs": [],
   "source": [
    "indexes = x_train[(df_train['GrLivArea']>4000) & (df_train['SalePrice']<300000)].index \n",
    "\n",
    "x_train = x_train.drop(indexes)\n",
    "y_train = np.delete(y_train, indexes)"
   ]
  },
  {
   "cell_type": "code",
   "execution_count": 23,
   "id": "ae6314ed",
   "metadata": {
    "execution": {
     "iopub.execute_input": "2024-01-14T06:32:54.508202Z",
     "iopub.status.busy": "2024-01-14T06:32:54.507914Z",
     "iopub.status.idle": "2024-01-14T06:32:54.513265Z",
     "shell.execute_reply": "2024-01-14T06:32:54.512434Z"
    },
    "papermill": {
     "duration": 0.027742,
     "end_time": "2024-01-14T06:32:54.515243",
     "exception": false,
     "start_time": "2024-01-14T06:32:54.487501",
     "status": "completed"
    },
    "tags": []
   },
   "outputs": [
    {
     "data": {
      "text/plain": [
       "(1458,)"
      ]
     },
     "execution_count": 23,
     "metadata": {},
     "output_type": "execute_result"
    }
   ],
   "source": [
    "y_train.shape"
   ]
  },
  {
   "cell_type": "markdown",
   "id": "768272e4",
   "metadata": {
    "papermill": {
     "duration": 0.018364,
     "end_time": "2024-01-14T06:32:54.552063",
     "exception": false,
     "start_time": "2024-01-14T06:32:54.533699",
     "status": "completed"
    },
    "tags": []
   },
   "source": [
    "# **Regression Model**"
   ]
  },
  {
   "cell_type": "code",
   "execution_count": 24,
   "id": "c7867507",
   "metadata": {
    "execution": {
     "iopub.execute_input": "2024-01-14T06:32:54.590215Z",
     "iopub.status.busy": "2024-01-14T06:32:54.589911Z",
     "iopub.status.idle": "2024-01-14T06:32:55.104116Z",
     "shell.execute_reply": "2024-01-14T06:32:55.103288Z"
    },
    "papermill": {
     "duration": 0.535871,
     "end_time": "2024-01-14T06:32:55.106324",
     "exception": false,
     "start_time": "2024-01-14T06:32:54.570453",
     "status": "completed"
    },
    "tags": []
   },
   "outputs": [],
   "source": [
    "from sklearn.linear_model import ElasticNet, Lasso,  BayesianRidge, LassoLarsIC\n",
    "from sklearn.ensemble import RandomForestRegressor,  GradientBoostingRegressor\n",
    "from sklearn.kernel_ridge import KernelRidge\n",
    "from sklearn.pipeline import make_pipeline\n",
    "from sklearn.preprocessing import RobustScaler\n",
    "from sklearn.base import BaseEstimator, TransformerMixin, RegressorMixin, clone\n",
    "from sklearn.model_selection import KFold, cross_val_score, train_test_split\n",
    "from sklearn.metrics import mean_squared_error\n",
    "import xgboost as xgb"
   ]
  },
  {
   "cell_type": "code",
   "execution_count": 25,
   "id": "925202fc",
   "metadata": {
    "execution": {
     "iopub.execute_input": "2024-01-14T06:32:55.145262Z",
     "iopub.status.busy": "2024-01-14T06:32:55.144952Z",
     "iopub.status.idle": "2024-01-14T06:32:55.149027Z",
     "shell.execute_reply": "2024-01-14T06:32:55.148292Z"
    },
    "papermill": {
     "duration": 0.025626,
     "end_time": "2024-01-14T06:32:55.151046",
     "exception": false,
     "start_time": "2024-01-14T06:32:55.125420",
     "status": "completed"
    },
    "tags": []
   },
   "outputs": [],
   "source": [
    "model_xgb = xgb.XGBRegressor(n_estimators=2200)"
   ]
  },
  {
   "cell_type": "code",
   "execution_count": 26,
   "id": "852db6d9",
   "metadata": {
    "execution": {
     "iopub.execute_input": "2024-01-14T06:32:55.188671Z",
     "iopub.status.busy": "2024-01-14T06:32:55.188411Z",
     "iopub.status.idle": "2024-01-14T06:32:55.193813Z",
     "shell.execute_reply": "2024-01-14T06:32:55.193005Z"
    },
    "papermill": {
     "duration": 0.026178,
     "end_time": "2024-01-14T06:32:55.195613",
     "exception": false,
     "start_time": "2024-01-14T06:32:55.169435",
     "status": "completed"
    },
    "tags": []
   },
   "outputs": [],
   "source": [
    "n_folds = 5\n",
    "\n",
    "def rmsle(model):\n",
    "    kf = KFold(n_folds, shuffle=True, random_state=42).get_n_splits(train.values)\n",
    "    rmse = np.sqrt(-cross_val_score(model, train.values, y_train, scoring=\"neg_mean_squared_error\", cv = kf))\n",
    "    return(rmse)\n",
    "\n",
    "def rmsle(y, y_pred):\n",
    "    return np.sqrt(mean_squared_error(y, y_pred))"
   ]
  },
  {
   "cell_type": "code",
   "execution_count": 27,
   "id": "2af9d822",
   "metadata": {
    "execution": {
     "iopub.execute_input": "2024-01-14T06:32:55.233415Z",
     "iopub.status.busy": "2024-01-14T06:32:55.233170Z",
     "iopub.status.idle": "2024-01-14T06:32:55.238440Z",
     "shell.execute_reply": "2024-01-14T06:32:55.237593Z"
    },
    "papermill": {
     "duration": 0.026431,
     "end_time": "2024-01-14T06:32:55.240283",
     "exception": false,
     "start_time": "2024-01-14T06:32:55.213852",
     "status": "completed"
    },
    "tags": []
   },
   "outputs": [
    {
     "data": {
      "text/plain": [
       "(1458, 72)"
      ]
     },
     "execution_count": 27,
     "metadata": {},
     "output_type": "execute_result"
    }
   ],
   "source": [
    "x_train.shape"
   ]
  },
  {
   "cell_type": "code",
   "execution_count": 28,
   "id": "970bb6c8",
   "metadata": {
    "execution": {
     "iopub.execute_input": "2024-01-14T06:32:55.278453Z",
     "iopub.status.busy": "2024-01-14T06:32:55.277836Z",
     "iopub.status.idle": "2024-01-14T06:33:01.322894Z",
     "shell.execute_reply": "2024-01-14T06:33:01.322125Z"
    },
    "papermill": {
     "duration": 6.066514,
     "end_time": "2024-01-14T06:33:01.325134",
     "exception": false,
     "start_time": "2024-01-14T06:32:55.258620",
     "status": "completed"
    },
    "tags": []
   },
   "outputs": [
    {
     "name": "stdout",
     "output_type": "stream",
     "text": [
      "0.044554430657468905\n"
     ]
    }
   ],
   "source": [
    "model_xgb.fit(x_train, y_train)\n",
    "xgb_train_pred = model_xgb.predict(x_train)\n",
    "xgb_pred = model_xgb.predict(df_test)\n",
    "print(rmsle(y_train, xgb_train_pred))"
   ]
  },
  {
   "cell_type": "code",
   "execution_count": 29,
   "id": "32a725a4",
   "metadata": {
    "execution": {
     "iopub.execute_input": "2024-01-14T06:33:01.365877Z",
     "iopub.status.busy": "2024-01-14T06:33:01.365115Z",
     "iopub.status.idle": "2024-01-14T06:33:01.371269Z",
     "shell.execute_reply": "2024-01-14T06:33:01.370448Z"
    },
    "papermill": {
     "duration": 0.02798,
     "end_time": "2024-01-14T06:33:01.373225",
     "exception": false,
     "start_time": "2024-01-14T06:33:01.345245",
     "status": "completed"
    },
    "tags": []
   },
   "outputs": [
    {
     "data": {
      "text/plain": [
       "array([124466.62, 150296.36, 178358.8 , ..., 166752.89, 115987.76,\n",
       "       198559.83], dtype=float32)"
      ]
     },
     "execution_count": 29,
     "metadata": {},
     "output_type": "execute_result"
    }
   ],
   "source": [
    "xgb_pred"
   ]
  },
  {
   "cell_type": "code",
   "execution_count": 30,
   "id": "dbaddb92",
   "metadata": {
    "execution": {
     "iopub.execute_input": "2024-01-14T06:33:01.412625Z",
     "iopub.status.busy": "2024-01-14T06:33:01.412331Z",
     "iopub.status.idle": "2024-01-14T06:33:01.425109Z",
     "shell.execute_reply": "2024-01-14T06:33:01.424358Z"
    },
    "papermill": {
     "duration": 0.034357,
     "end_time": "2024-01-14T06:33:01.427035",
     "exception": false,
     "start_time": "2024-01-14T06:33:01.392678",
     "status": "completed"
    },
    "tags": []
   },
   "outputs": [],
   "source": [
    "sub = pd.DataFrame()\n",
    "sub['Id'] = ids\n",
    "sub['SalePrice'] = xgb_pred\n",
    "sub.to_csv('submission.csv',index=False)"
   ]
  },
  {
   "cell_type": "code",
   "execution_count": 31,
   "id": "76bbb5e9",
   "metadata": {
    "execution": {
     "iopub.execute_input": "2024-01-14T06:33:01.466218Z",
     "iopub.status.busy": "2024-01-14T06:33:01.465926Z",
     "iopub.status.idle": "2024-01-14T06:33:01.470935Z",
     "shell.execute_reply": "2024-01-14T06:33:01.470201Z"
    },
    "papermill": {
     "duration": 0.026819,
     "end_time": "2024-01-14T06:33:01.472767",
     "exception": false,
     "start_time": "2024-01-14T06:33:01.445948",
     "status": "completed"
    },
    "tags": []
   },
   "outputs": [],
   "source": [
    "model_xgb = xgb.XGBRegressor(reg_lambda=0.8571, n_estimators=2200, nthread = -1)"
   ]
  },
  {
   "cell_type": "code",
   "execution_count": 32,
   "id": "129fc10b",
   "metadata": {
    "execution": {
     "iopub.execute_input": "2024-01-14T06:33:01.511655Z",
     "iopub.status.busy": "2024-01-14T06:33:01.511353Z",
     "iopub.status.idle": "2024-01-14T06:33:06.050523Z",
     "shell.execute_reply": "2024-01-14T06:33:06.049791Z"
    },
    "papermill": {
     "duration": 4.561085,
     "end_time": "2024-01-14T06:33:06.052744",
     "exception": false,
     "start_time": "2024-01-14T06:33:01.491659",
     "status": "completed"
    },
    "tags": []
   },
   "outputs": [
    {
     "name": "stdout",
     "output_type": "stream",
     "text": [
      "0.0488291430792355\n"
     ]
    }
   ],
   "source": [
    "model_xgb.fit(x_train, y_train)\n",
    "xgb_train_pred = model_xgb.predict(x_train)\n",
    "xgb_pred = model_xgb.predict(df_test)\n",
    "print(rmsle(y_train, xgb_train_pred))"
   ]
  },
  {
   "cell_type": "markdown",
   "id": "b78bc19c",
   "metadata": {
    "papermill": {
     "duration": 0.018581,
     "end_time": "2024-01-14T06:33:06.091444",
     "exception": false,
     "start_time": "2024-01-14T06:33:06.072863",
     "status": "completed"
    },
    "tags": []
   },
   "source": [
    "# **Gridsearch**\n",
    "\n",
    "What we'll be tuning: The parameters max_depth, min_child_weight, and gamma directly constrain the model complexity, while subsample and colsample_bytree make the model more robust to noise by introducing random selection of observations and predictors. reg_lambda and reg_alpha are regularization parameters: increasing them can make the model more stable."
   ]
  },
  {
   "cell_type": "code",
   "execution_count": 33,
   "id": "10d7e582",
   "metadata": {
    "execution": {
     "iopub.execute_input": "2024-01-14T06:33:06.131361Z",
     "iopub.status.busy": "2024-01-14T06:33:06.130733Z",
     "iopub.status.idle": "2024-01-14T07:16:30.251732Z",
     "shell.execute_reply": "2024-01-14T07:16:30.250667Z"
    },
    "papermill": {
     "duration": 2604.16292,
     "end_time": "2024-01-14T07:16:30.273074",
     "exception": false,
     "start_time": "2024-01-14T06:33:06.110154",
     "status": "completed"
    },
    "tags": []
   },
   "outputs": [
    {
     "data": {
      "text/html": [
       "<style>#sk-container-id-1 {color: black;background-color: white;}#sk-container-id-1 pre{padding: 0;}#sk-container-id-1 div.sk-toggleable {background-color: white;}#sk-container-id-1 label.sk-toggleable__label {cursor: pointer;display: block;width: 100%;margin-bottom: 0;padding: 0.3em;box-sizing: border-box;text-align: center;}#sk-container-id-1 label.sk-toggleable__label-arrow:before {content: \"▸\";float: left;margin-right: 0.25em;color: #696969;}#sk-container-id-1 label.sk-toggleable__label-arrow:hover:before {color: black;}#sk-container-id-1 div.sk-estimator:hover label.sk-toggleable__label-arrow:before {color: black;}#sk-container-id-1 div.sk-toggleable__content {max-height: 0;max-width: 0;overflow: hidden;text-align: left;background-color: #f0f8ff;}#sk-container-id-1 div.sk-toggleable__content pre {margin: 0.2em;color: black;border-radius: 0.25em;background-color: #f0f8ff;}#sk-container-id-1 input.sk-toggleable__control:checked~div.sk-toggleable__content {max-height: 200px;max-width: 100%;overflow: auto;}#sk-container-id-1 input.sk-toggleable__control:checked~label.sk-toggleable__label-arrow:before {content: \"▾\";}#sk-container-id-1 div.sk-estimator input.sk-toggleable__control:checked~label.sk-toggleable__label {background-color: #d4ebff;}#sk-container-id-1 div.sk-label input.sk-toggleable__control:checked~label.sk-toggleable__label {background-color: #d4ebff;}#sk-container-id-1 input.sk-hidden--visually {border: 0;clip: rect(1px 1px 1px 1px);clip: rect(1px, 1px, 1px, 1px);height: 1px;margin: -1px;overflow: hidden;padding: 0;position: absolute;width: 1px;}#sk-container-id-1 div.sk-estimator {font-family: monospace;background-color: #f0f8ff;border: 1px dotted black;border-radius: 0.25em;box-sizing: border-box;margin-bottom: 0.5em;}#sk-container-id-1 div.sk-estimator:hover {background-color: #d4ebff;}#sk-container-id-1 div.sk-parallel-item::after {content: \"\";width: 100%;border-bottom: 1px solid gray;flex-grow: 1;}#sk-container-id-1 div.sk-label:hover label.sk-toggleable__label {background-color: #d4ebff;}#sk-container-id-1 div.sk-serial::before {content: \"\";position: absolute;border-left: 1px solid gray;box-sizing: border-box;top: 0;bottom: 0;left: 50%;z-index: 0;}#sk-container-id-1 div.sk-serial {display: flex;flex-direction: column;align-items: center;background-color: white;padding-right: 0.2em;padding-left: 0.2em;position: relative;}#sk-container-id-1 div.sk-item {position: relative;z-index: 1;}#sk-container-id-1 div.sk-parallel {display: flex;align-items: stretch;justify-content: center;background-color: white;position: relative;}#sk-container-id-1 div.sk-item::before, #sk-container-id-1 div.sk-parallel-item::before {content: \"\";position: absolute;border-left: 1px solid gray;box-sizing: border-box;top: 0;bottom: 0;left: 50%;z-index: -1;}#sk-container-id-1 div.sk-parallel-item {display: flex;flex-direction: column;z-index: 1;position: relative;background-color: white;}#sk-container-id-1 div.sk-parallel-item:first-child::after {align-self: flex-end;width: 50%;}#sk-container-id-1 div.sk-parallel-item:last-child::after {align-self: flex-start;width: 50%;}#sk-container-id-1 div.sk-parallel-item:only-child::after {width: 0;}#sk-container-id-1 div.sk-dashed-wrapped {border: 1px dashed gray;margin: 0 0.4em 0.5em 0.4em;box-sizing: border-box;padding-bottom: 0.4em;background-color: white;}#sk-container-id-1 div.sk-label label {font-family: monospace;font-weight: bold;display: inline-block;line-height: 1.2em;}#sk-container-id-1 div.sk-label-container {text-align: center;}#sk-container-id-1 div.sk-container {/* jupyter's `normalize.less` sets `[hidden] { display: none; }` but bootstrap.min.css set `[hidden] { display: none !important; }` so we also need the `!important` here to be able to override the default hidden behavior on the sphinx rendered scikit-learn.org. See: https://github.com/scikit-learn/scikit-learn/issues/21755 */display: inline-block !important;position: relative;}#sk-container-id-1 div.sk-text-repr-fallback {display: none;}</style><div id=\"sk-container-id-1\" class=\"sk-top-container\"><div class=\"sk-text-repr-fallback\"><pre>GridSearchCV(estimator=XGBRegressor(base_score=None, booster=None,\n",
       "                                    callbacks=None, colsample_bylevel=None,\n",
       "                                    colsample_bynode=None,\n",
       "                                    colsample_bytree=None, device=None,\n",
       "                                    early_stopping_rounds=None,\n",
       "                                    enable_categorical=False, eval_metric=None,\n",
       "                                    feature_types=None, gamma=None,\n",
       "                                    grow_policy=None, importance_type=None,\n",
       "                                    interaction_constraints=None,\n",
       "                                    learning_rate=None, max_bi...\n",
       "                                    min_child_weight=None, missing=nan,\n",
       "                                    monotone_constraints=None,\n",
       "                                    multi_strategy=None, n_estimators=None,\n",
       "                                    n_jobs=None, nthread=-1,\n",
       "                                    num_parallel_tree=None, ...),\n",
       "             param_grid={&#x27;colsample_bytree&#x27;: [0.4, 0.5, 0.6, 0.7, 0.8, 0.9,\n",
       "                                              1.0],\n",
       "                         &#x27;gamma&#x27;: [0.3, 0.4, 0.5], &#x27;max_depth&#x27;: [2, 3, 4],\n",
       "                         &#x27;min_child_weight&#x27;: [4, 5],\n",
       "                         &#x27;reg_alpha&#x27;: [0.4, 0.5, 0.6], &#x27;reg_lambda&#x27;: [0.7, 0.8],\n",
       "                         &#x27;subsample&#x27;: [0.6, 0.7, 0.8, 0.9, 1.0]})</pre><b>In a Jupyter environment, please rerun this cell to show the HTML representation or trust the notebook. <br />On GitHub, the HTML representation is unable to render, please try loading this page with nbviewer.org.</b></div><div class=\"sk-container\" hidden><div class=\"sk-item sk-dashed-wrapped\"><div class=\"sk-label-container\"><div class=\"sk-label sk-toggleable\"><input class=\"sk-toggleable__control sk-hidden--visually\" id=\"sk-estimator-id-1\" type=\"checkbox\" ><label for=\"sk-estimator-id-1\" class=\"sk-toggleable__label sk-toggleable__label-arrow\">GridSearchCV</label><div class=\"sk-toggleable__content\"><pre>GridSearchCV(estimator=XGBRegressor(base_score=None, booster=None,\n",
       "                                    callbacks=None, colsample_bylevel=None,\n",
       "                                    colsample_bynode=None,\n",
       "                                    colsample_bytree=None, device=None,\n",
       "                                    early_stopping_rounds=None,\n",
       "                                    enable_categorical=False, eval_metric=None,\n",
       "                                    feature_types=None, gamma=None,\n",
       "                                    grow_policy=None, importance_type=None,\n",
       "                                    interaction_constraints=None,\n",
       "                                    learning_rate=None, max_bi...\n",
       "                                    min_child_weight=None, missing=nan,\n",
       "                                    monotone_constraints=None,\n",
       "                                    multi_strategy=None, n_estimators=None,\n",
       "                                    n_jobs=None, nthread=-1,\n",
       "                                    num_parallel_tree=None, ...),\n",
       "             param_grid={&#x27;colsample_bytree&#x27;: [0.4, 0.5, 0.6, 0.7, 0.8, 0.9,\n",
       "                                              1.0],\n",
       "                         &#x27;gamma&#x27;: [0.3, 0.4, 0.5], &#x27;max_depth&#x27;: [2, 3, 4],\n",
       "                         &#x27;min_child_weight&#x27;: [4, 5],\n",
       "                         &#x27;reg_alpha&#x27;: [0.4, 0.5, 0.6], &#x27;reg_lambda&#x27;: [0.7, 0.8],\n",
       "                         &#x27;subsample&#x27;: [0.6, 0.7, 0.8, 0.9, 1.0]})</pre></div></div></div><div class=\"sk-parallel\"><div class=\"sk-parallel-item\"><div class=\"sk-item\"><div class=\"sk-label-container\"><div class=\"sk-label sk-toggleable\"><input class=\"sk-toggleable__control sk-hidden--visually\" id=\"sk-estimator-id-2\" type=\"checkbox\" ><label for=\"sk-estimator-id-2\" class=\"sk-toggleable__label sk-toggleable__label-arrow\">estimator: XGBRegressor</label><div class=\"sk-toggleable__content\"><pre>XGBRegressor(base_score=None, booster=None, callbacks=None,\n",
       "             colsample_bylevel=None, colsample_bynode=None,\n",
       "             colsample_bytree=None, device=None, early_stopping_rounds=None,\n",
       "             enable_categorical=False, eval_metric=None, feature_types=None,\n",
       "             gamma=None, grow_policy=None, importance_type=None,\n",
       "             interaction_constraints=None, learning_rate=None, max_bin=None,\n",
       "             max_cat_threshold=None, max_cat_to_onehot=None,\n",
       "             max_delta_step=None, max_depth=None, max_leaves=None,\n",
       "             min_child_weight=None, missing=nan, monotone_constraints=None,\n",
       "             multi_strategy=None, n_estimators=None, n_jobs=None, nthread=-1,\n",
       "             num_parallel_tree=None, ...)</pre></div></div></div><div class=\"sk-serial\"><div class=\"sk-item\"><div class=\"sk-estimator sk-toggleable\"><input class=\"sk-toggleable__control sk-hidden--visually\" id=\"sk-estimator-id-3\" type=\"checkbox\" ><label for=\"sk-estimator-id-3\" class=\"sk-toggleable__label sk-toggleable__label-arrow\">XGBRegressor</label><div class=\"sk-toggleable__content\"><pre>XGBRegressor(base_score=None, booster=None, callbacks=None,\n",
       "             colsample_bylevel=None, colsample_bynode=None,\n",
       "             colsample_bytree=None, device=None, early_stopping_rounds=None,\n",
       "             enable_categorical=False, eval_metric=None, feature_types=None,\n",
       "             gamma=None, grow_policy=None, importance_type=None,\n",
       "             interaction_constraints=None, learning_rate=None, max_bin=None,\n",
       "             max_cat_threshold=None, max_cat_to_onehot=None,\n",
       "             max_delta_step=None, max_depth=None, max_leaves=None,\n",
       "             min_child_weight=None, missing=nan, monotone_constraints=None,\n",
       "             multi_strategy=None, n_estimators=None, n_jobs=None, nthread=-1,\n",
       "             num_parallel_tree=None, ...)</pre></div></div></div></div></div></div></div></div></div></div>"
      ],
      "text/plain": [
       "GridSearchCV(estimator=XGBRegressor(base_score=None, booster=None,\n",
       "                                    callbacks=None, colsample_bylevel=None,\n",
       "                                    colsample_bynode=None,\n",
       "                                    colsample_bytree=None, device=None,\n",
       "                                    early_stopping_rounds=None,\n",
       "                                    enable_categorical=False, eval_metric=None,\n",
       "                                    feature_types=None, gamma=None,\n",
       "                                    grow_policy=None, importance_type=None,\n",
       "                                    interaction_constraints=None,\n",
       "                                    learning_rate=None, max_bi...\n",
       "                                    min_child_weight=None, missing=nan,\n",
       "                                    monotone_constraints=None,\n",
       "                                    multi_strategy=None, n_estimators=None,\n",
       "                                    n_jobs=None, nthread=-1,\n",
       "                                    num_parallel_tree=None, ...),\n",
       "             param_grid={'colsample_bytree': [0.4, 0.5, 0.6, 0.7, 0.8, 0.9,\n",
       "                                              1.0],\n",
       "                         'gamma': [0.3, 0.4, 0.5], 'max_depth': [2, 3, 4],\n",
       "                         'min_child_weight': [4, 5],\n",
       "                         'reg_alpha': [0.4, 0.5, 0.6], 'reg_lambda': [0.7, 0.8],\n",
       "                         'subsample': [0.6, 0.7, 0.8, 0.9, 1.0]})"
      ]
     },
     "execution_count": 33,
     "metadata": {},
     "output_type": "execute_result"
    }
   ],
   "source": [
    "from sklearn.model_selection import GridSearchCV\n",
    "\n",
    "params = {'min_child_weight':[4,5], 'gamma':[i/10.0 for i in range(3,6)],  'subsample':[i/10.0 for i in range(6,11)],\n",
    "'colsample_bytree':[i/10.0 for i in range(4,11)], 'max_depth': [2,3,4], 'reg_lambda':[i/10.0 for i in range(7,9)], 'reg_alpha':[i/10.0 for i in range(4,7)]}\n",
    "\n",
    "model = xgb.XGBRegressor(nthread=-1) \n",
    "\n",
    "grid = GridSearchCV(model, params)\n",
    "grid.fit(x_train, y_train)"
   ]
  },
  {
   "cell_type": "code",
   "execution_count": 34,
   "id": "d74aa4ed",
   "metadata": {
    "execution": {
     "iopub.execute_input": "2024-01-14T07:16:30.313348Z",
     "iopub.status.busy": "2024-01-14T07:16:30.313048Z",
     "iopub.status.idle": "2024-01-14T07:16:30.344466Z",
     "shell.execute_reply": "2024-01-14T07:16:30.343662Z"
    },
    "papermill": {
     "duration": 0.054073,
     "end_time": "2024-01-14T07:16:30.346529",
     "exception": false,
     "start_time": "2024-01-14T07:16:30.292456",
     "status": "completed"
    },
    "tags": []
   },
   "outputs": [
    {
     "name": "stdout",
     "output_type": "stream",
     "text": [
      "11954.680979705952\n"
     ]
    }
   ],
   "source": [
    "xgb_train_pred = grid.best_estimator_.predict(x_train)\n",
    "xgb_pred = grid.best_estimator_.predict(df_test)\n",
    "print(rmsle(y_train, xgb_train_pred))"
   ]
  },
  {
   "cell_type": "code",
   "execution_count": 35,
   "id": "6b8b08c4",
   "metadata": {
    "execution": {
     "iopub.execute_input": "2024-01-14T07:16:30.388107Z",
     "iopub.status.busy": "2024-01-14T07:16:30.387561Z",
     "iopub.status.idle": "2024-01-14T07:16:33.723897Z",
     "shell.execute_reply": "2024-01-14T07:16:33.723106Z"
    },
    "papermill": {
     "duration": 3.359382,
     "end_time": "2024-01-14T07:16:33.726176",
     "exception": false,
     "start_time": "2024-01-14T07:16:30.366794",
     "status": "completed"
    },
    "tags": []
   },
   "outputs": [],
   "source": [
    "from sklearn.base import BaseEstimator, TransformerMixin, RegressorMixin\n",
    "from sklearn.kernel_ridge import KernelRidge\n",
    "from sklearn.ensemble import GradientBoostingRegressor\n",
    "from sklearn.pipeline import make_pipeline\n",
    "from sklearn.preprocessing import RobustScaler\n",
    "from sklearn.linear_model import ElasticNet, Lasso\n",
    "import lightgbm as lgb\n",
    "\n",
    "class StackingAveragedModels(BaseEstimator, RegressorMixin, TransformerMixin):\n",
    "    def __init__(self, base_models, meta_model, n_folds=5):\n",
    "        self.base_models = base_models\n",
    "        self.meta_model = meta_model\n",
    "        self.n_folds = n_folds\n",
    "   \n",
    "    # We again fit the data on clones of the original models\n",
    "    def fit(self, X, y):\n",
    "        self.base_models_ = [list() for x in self.base_models]\n",
    "        self.meta_model_ = clone(self.meta_model)\n",
    "        kfold = KFold(n_splits=self.n_folds, shuffle=True, random_state=156)\n",
    "        \n",
    "        # Train cloned base models then create out-of-fold predictions\n",
    "        # that are needed to train the cloned meta-model\n",
    "        out_of_fold_predictions = np.zeros((X.shape[0], len(self.base_models)))\n",
    "        for i, model in enumerate(self.base_models):\n",
    "            for train_index, holdout_index in kfold.split(X, y):\n",
    "                instance = clone(model)\n",
    "                self.base_models_[i].append(instance)\n",
    "                instance.fit(X[train_index], y[train_index])\n",
    "                y_pred = instance.predict(X[holdout_index])\n",
    "                out_of_fold_predictions[holdout_index, i] = y_pred\n",
    "                \n",
    "        # Now train the cloned  meta-model using the out-of-fold predictions as new feature\n",
    "        self.meta_model_.fit(out_of_fold_predictions, y)\n",
    "        return self\n",
    "   \n",
    "    #Do the predictions of all base models on the test data and use the averaged predictions as \n",
    "    #meta-features for the final prediction which is done by the meta-model\n",
    "    def predict(self, X):\n",
    "        meta_features = np.column_stack([\n",
    "            np.column_stack([model.predict(X) for model in base_models]).mean(axis=1)\n",
    "            for base_models in self.base_models_ ])\n",
    "        return self.meta_model_.predict(meta_features)"
   ]
  },
  {
   "cell_type": "code",
   "execution_count": 36,
   "id": "45b6220f",
   "metadata": {
    "execution": {
     "iopub.execute_input": "2024-01-14T07:16:33.767349Z",
     "iopub.status.busy": "2024-01-14T07:16:33.767072Z",
     "iopub.status.idle": "2024-01-14T07:16:33.772677Z",
     "shell.execute_reply": "2024-01-14T07:16:33.771886Z"
    },
    "papermill": {
     "duration": 0.028136,
     "end_time": "2024-01-14T07:16:33.774619",
     "exception": false,
     "start_time": "2024-01-14T07:16:33.746483",
     "status": "completed"
    },
    "tags": []
   },
   "outputs": [],
   "source": [
    "KRR = KernelRidge(alpha=0.6, kernel='polynomial', degree=2, coef0=2.5)\n",
    "\n",
    "GBoost = GradientBoostingRegressor(n_estimators=3000, random_state =42)\n",
    "\n",
    "ENet = make_pipeline(RobustScaler(), ElasticNet(alpha=0.0005,random_state=42))\n",
    "lasso = make_pipeline(RobustScaler(), Lasso(alpha =0.0005, random_state=42))\n",
    "\n",
    "stacked_averaged_models = StackingAveragedModels(base_models = (ENet, GBoost, KRR),\n",
    "                                                 meta_model = lasso)"
   ]
  },
  {
   "cell_type": "code",
   "execution_count": 37,
   "id": "63c6ee01",
   "metadata": {
    "execution": {
     "iopub.execute_input": "2024-01-14T07:16:33.814832Z",
     "iopub.status.busy": "2024-01-14T07:16:33.814321Z",
     "iopub.status.idle": "2024-01-14T07:18:02.848573Z",
     "shell.execute_reply": "2024-01-14T07:18:02.847348Z"
    },
    "papermill": {
     "duration": 89.080596,
     "end_time": "2024-01-14T07:18:02.874732",
     "exception": false,
     "start_time": "2024-01-14T07:16:33.794136",
     "status": "completed"
    },
    "tags": []
   },
   "outputs": [
    {
     "data": {
      "text/html": [
       "<style>#sk-container-id-2 {color: black;background-color: white;}#sk-container-id-2 pre{padding: 0;}#sk-container-id-2 div.sk-toggleable {background-color: white;}#sk-container-id-2 label.sk-toggleable__label {cursor: pointer;display: block;width: 100%;margin-bottom: 0;padding: 0.3em;box-sizing: border-box;text-align: center;}#sk-container-id-2 label.sk-toggleable__label-arrow:before {content: \"▸\";float: left;margin-right: 0.25em;color: #696969;}#sk-container-id-2 label.sk-toggleable__label-arrow:hover:before {color: black;}#sk-container-id-2 div.sk-estimator:hover label.sk-toggleable__label-arrow:before {color: black;}#sk-container-id-2 div.sk-toggleable__content {max-height: 0;max-width: 0;overflow: hidden;text-align: left;background-color: #f0f8ff;}#sk-container-id-2 div.sk-toggleable__content pre {margin: 0.2em;color: black;border-radius: 0.25em;background-color: #f0f8ff;}#sk-container-id-2 input.sk-toggleable__control:checked~div.sk-toggleable__content {max-height: 200px;max-width: 100%;overflow: auto;}#sk-container-id-2 input.sk-toggleable__control:checked~label.sk-toggleable__label-arrow:before {content: \"▾\";}#sk-container-id-2 div.sk-estimator input.sk-toggleable__control:checked~label.sk-toggleable__label {background-color: #d4ebff;}#sk-container-id-2 div.sk-label input.sk-toggleable__control:checked~label.sk-toggleable__label {background-color: #d4ebff;}#sk-container-id-2 input.sk-hidden--visually {border: 0;clip: rect(1px 1px 1px 1px);clip: rect(1px, 1px, 1px, 1px);height: 1px;margin: -1px;overflow: hidden;padding: 0;position: absolute;width: 1px;}#sk-container-id-2 div.sk-estimator {font-family: monospace;background-color: #f0f8ff;border: 1px dotted black;border-radius: 0.25em;box-sizing: border-box;margin-bottom: 0.5em;}#sk-container-id-2 div.sk-estimator:hover {background-color: #d4ebff;}#sk-container-id-2 div.sk-parallel-item::after {content: \"\";width: 100%;border-bottom: 1px solid gray;flex-grow: 1;}#sk-container-id-2 div.sk-label:hover label.sk-toggleable__label {background-color: #d4ebff;}#sk-container-id-2 div.sk-serial::before {content: \"\";position: absolute;border-left: 1px solid gray;box-sizing: border-box;top: 0;bottom: 0;left: 50%;z-index: 0;}#sk-container-id-2 div.sk-serial {display: flex;flex-direction: column;align-items: center;background-color: white;padding-right: 0.2em;padding-left: 0.2em;position: relative;}#sk-container-id-2 div.sk-item {position: relative;z-index: 1;}#sk-container-id-2 div.sk-parallel {display: flex;align-items: stretch;justify-content: center;background-color: white;position: relative;}#sk-container-id-2 div.sk-item::before, #sk-container-id-2 div.sk-parallel-item::before {content: \"\";position: absolute;border-left: 1px solid gray;box-sizing: border-box;top: 0;bottom: 0;left: 50%;z-index: -1;}#sk-container-id-2 div.sk-parallel-item {display: flex;flex-direction: column;z-index: 1;position: relative;background-color: white;}#sk-container-id-2 div.sk-parallel-item:first-child::after {align-self: flex-end;width: 50%;}#sk-container-id-2 div.sk-parallel-item:last-child::after {align-self: flex-start;width: 50%;}#sk-container-id-2 div.sk-parallel-item:only-child::after {width: 0;}#sk-container-id-2 div.sk-dashed-wrapped {border: 1px dashed gray;margin: 0 0.4em 0.5em 0.4em;box-sizing: border-box;padding-bottom: 0.4em;background-color: white;}#sk-container-id-2 div.sk-label label {font-family: monospace;font-weight: bold;display: inline-block;line-height: 1.2em;}#sk-container-id-2 div.sk-label-container {text-align: center;}#sk-container-id-2 div.sk-container {/* jupyter's `normalize.less` sets `[hidden] { display: none; }` but bootstrap.min.css set `[hidden] { display: none !important; }` so we also need the `!important` here to be able to override the default hidden behavior on the sphinx rendered scikit-learn.org. See: https://github.com/scikit-learn/scikit-learn/issues/21755 */display: inline-block !important;position: relative;}#sk-container-id-2 div.sk-text-repr-fallback {display: none;}</style><div id=\"sk-container-id-2\" class=\"sk-top-container\"><div class=\"sk-text-repr-fallback\"><pre>StackingAveragedModels(base_models=(Pipeline(steps=[(&#x27;robustscaler&#x27;,\n",
       "                                                     RobustScaler()),\n",
       "                                                    (&#x27;elasticnet&#x27;,\n",
       "                                                     ElasticNet(alpha=0.0005,\n",
       "                                                                random_state=42))]),\n",
       "                                    GradientBoostingRegressor(n_estimators=3000,\n",
       "                                                              random_state=42),\n",
       "                                    KernelRidge(alpha=0.6, coef0=2.5, degree=2,\n",
       "                                                kernel=&#x27;polynomial&#x27;)),\n",
       "                       meta_model=Pipeline(steps=[(&#x27;robustscaler&#x27;,\n",
       "                                                   RobustScaler()),\n",
       "                                                  (&#x27;lasso&#x27;,\n",
       "                                                   Lasso(alpha=0.0005,\n",
       "                                                         random_state=42))]))</pre><b>In a Jupyter environment, please rerun this cell to show the HTML representation or trust the notebook. <br />On GitHub, the HTML representation is unable to render, please try loading this page with nbviewer.org.</b></div><div class=\"sk-container\" hidden><div class=\"sk-item sk-dashed-wrapped\"><div class=\"sk-label-container\"><div class=\"sk-label sk-toggleable\"><input class=\"sk-toggleable__control sk-hidden--visually\" id=\"sk-estimator-id-4\" type=\"checkbox\" ><label for=\"sk-estimator-id-4\" class=\"sk-toggleable__label sk-toggleable__label-arrow\">StackingAveragedModels</label><div class=\"sk-toggleable__content\"><pre>StackingAveragedModels(base_models=(Pipeline(steps=[(&#x27;robustscaler&#x27;,\n",
       "                                                     RobustScaler()),\n",
       "                                                    (&#x27;elasticnet&#x27;,\n",
       "                                                     ElasticNet(alpha=0.0005,\n",
       "                                                                random_state=42))]),\n",
       "                                    GradientBoostingRegressor(n_estimators=3000,\n",
       "                                                              random_state=42),\n",
       "                                    KernelRidge(alpha=0.6, coef0=2.5, degree=2,\n",
       "                                                kernel=&#x27;polynomial&#x27;)),\n",
       "                       meta_model=Pipeline(steps=[(&#x27;robustscaler&#x27;,\n",
       "                                                   RobustScaler()),\n",
       "                                                  (&#x27;lasso&#x27;,\n",
       "                                                   Lasso(alpha=0.0005,\n",
       "                                                         random_state=42))]))</pre></div></div></div><div class=\"sk-parallel\"><div class=\"sk-parallel-item\"><div class=\"sk-item\"><div class=\"sk-label-container\"><div class=\"sk-label sk-toggleable\"><input class=\"sk-toggleable__control sk-hidden--visually\" id=\"sk-estimator-id-5\" type=\"checkbox\" ><label for=\"sk-estimator-id-5\" class=\"sk-toggleable__label sk-toggleable__label-arrow\">meta_model: Pipeline</label><div class=\"sk-toggleable__content\"><pre>Pipeline(steps=[(&#x27;robustscaler&#x27;, RobustScaler()),\n",
       "                (&#x27;lasso&#x27;, Lasso(alpha=0.0005, random_state=42))])</pre></div></div></div><div class=\"sk-serial\"><div class=\"sk-item\"><div class=\"sk-serial\"><div class=\"sk-item\"><div class=\"sk-estimator sk-toggleable\"><input class=\"sk-toggleable__control sk-hidden--visually\" id=\"sk-estimator-id-6\" type=\"checkbox\" ><label for=\"sk-estimator-id-6\" class=\"sk-toggleable__label sk-toggleable__label-arrow\">RobustScaler</label><div class=\"sk-toggleable__content\"><pre>RobustScaler()</pre></div></div></div><div class=\"sk-item\"><div class=\"sk-estimator sk-toggleable\"><input class=\"sk-toggleable__control sk-hidden--visually\" id=\"sk-estimator-id-7\" type=\"checkbox\" ><label for=\"sk-estimator-id-7\" class=\"sk-toggleable__label sk-toggleable__label-arrow\">Lasso</label><div class=\"sk-toggleable__content\"><pre>Lasso(alpha=0.0005, random_state=42)</pre></div></div></div></div></div></div></div></div></div></div></div></div>"
      ],
      "text/plain": [
       "StackingAveragedModels(base_models=(Pipeline(steps=[('robustscaler',\n",
       "                                                     RobustScaler()),\n",
       "                                                    ('elasticnet',\n",
       "                                                     ElasticNet(alpha=0.0005,\n",
       "                                                                random_state=42))]),\n",
       "                                    GradientBoostingRegressor(n_estimators=3000,\n",
       "                                                              random_state=42),\n",
       "                                    KernelRidge(alpha=0.6, coef0=2.5, degree=2,\n",
       "                                                kernel='polynomial')),\n",
       "                       meta_model=Pipeline(steps=[('robustscaler',\n",
       "                                                   RobustScaler()),\n",
       "                                                  ('lasso',\n",
       "                                                   Lasso(alpha=0.0005,\n",
       "                                                         random_state=42))]))"
      ]
     },
     "execution_count": 37,
     "metadata": {},
     "output_type": "execute_result"
    }
   ],
   "source": [
    "model_xgb = xgb.XGBRegressor(n_estimators=2200, nthread = -1)\n",
    "model_xgb.fit(x_train, y_train)\n",
    "\n",
    "model_lgb = lgb.LGBMRegressor(objective='regression',n_estimators=720)\n",
    "model_lgb.fit(x_train, y_train)\n",
    "\n",
    "stacked_averaged_models.fit(x_train.values, y_train)"
   ]
  },
  {
   "cell_type": "code",
   "execution_count": 38,
   "id": "cbfe00d4",
   "metadata": {
    "execution": {
     "iopub.execute_input": "2024-01-14T07:18:02.915654Z",
     "iopub.status.busy": "2024-01-14T07:18:02.915362Z",
     "iopub.status.idle": "2024-01-14T07:18:03.399974Z",
     "shell.execute_reply": "2024-01-14T07:18:03.398527Z"
    },
    "papermill": {
     "duration": 0.508689,
     "end_time": "2024-01-14T07:18:03.403222",
     "exception": false,
     "start_time": "2024-01-14T07:18:02.894533",
     "status": "completed"
    },
    "tags": []
   },
   "outputs": [],
   "source": [
    "lgb_pred = model_lgb.predict(df_test)\n",
    "xgb_pred = model_xgb.predict(df_test)\n",
    "stacked_pred = stacked_averaged_models.predict(df_test.values)"
   ]
  },
  {
   "cell_type": "code",
   "execution_count": 39,
   "id": "3977ae36",
   "metadata": {
    "execution": {
     "iopub.execute_input": "2024-01-14T07:18:03.492391Z",
     "iopub.status.busy": "2024-01-14T07:18:03.491850Z",
     "iopub.status.idle": "2024-01-14T07:18:03.498195Z",
     "shell.execute_reply": "2024-01-14T07:18:03.497073Z"
    },
    "papermill": {
     "duration": 0.053258,
     "end_time": "2024-01-14T07:18:03.500464",
     "exception": false,
     "start_time": "2024-01-14T07:18:03.447206",
     "status": "completed"
    },
    "tags": []
   },
   "outputs": [],
   "source": [
    "ensemble = stacked_pred*0.70 + xgb_pred*0.15 + lgb_pred*0.15"
   ]
  },
  {
   "cell_type": "code",
   "execution_count": 40,
   "id": "b20700d2",
   "metadata": {
    "execution": {
     "iopub.execute_input": "2024-01-14T07:18:03.558021Z",
     "iopub.status.busy": "2024-01-14T07:18:03.557425Z",
     "iopub.status.idle": "2024-01-14T07:18:03.569260Z",
     "shell.execute_reply": "2024-01-14T07:18:03.568559Z"
    },
    "papermill": {
     "duration": 0.035449,
     "end_time": "2024-01-14T07:18:03.571513",
     "exception": false,
     "start_time": "2024-01-14T07:18:03.536064",
     "status": "completed"
    },
    "tags": []
   },
   "outputs": [],
   "source": [
    "sub = pd.DataFrame()\n",
    "sub['Id'] = ids\n",
    "sub['SalePrice'] = xgb_pred\n",
    "sub.to_csv('submission.csv',index=False)"
   ]
  },
  {
   "cell_type": "code",
   "execution_count": 41,
   "id": "e3c0777f",
   "metadata": {
    "execution": {
     "iopub.execute_input": "2024-01-14T07:18:03.613128Z",
     "iopub.status.busy": "2024-01-14T07:18:03.612568Z",
     "iopub.status.idle": "2024-01-14T07:20:58.270497Z",
     "shell.execute_reply": "2024-01-14T07:20:58.267474Z"
    },
    "papermill": {
     "duration": 174.681001,
     "end_time": "2024-01-14T07:20:58.272562",
     "exception": false,
     "start_time": "2024-01-14T07:18:03.591561",
     "status": "completed"
    },
    "tags": []
   },
   "outputs": [
    {
     "name": "stdout",
     "output_type": "stream",
     "text": [
      "Train:(2930, 81)   Test:(1459, 80)\n"
     ]
    },
    {
     "name": "stderr",
     "output_type": "stream",
     "text": [
      "Matching: 100%|██████████| 1459/1459 [02:54<00:00,  8.36it/s]\n"
     ]
    }
   ],
   "source": [
    "from tqdm import tqdm\n",
    "\n",
    "train = pd.read_csv('../input/ames-housing-dataset/AmesHousing.csv')\n",
    "train.drop(['PID'], axis=1, inplace=True)\n",
    "\n",
    "origin = pd.read_csv('../input/house-prices-advanced-regression-techniques/train.csv')\n",
    "train.columns = origin.columns\n",
    "\n",
    "test = pd.read_csv('../input/house-prices-advanced-regression-techniques/test.csv')\n",
    "\n",
    "submission = pd.read_csv('../input/house-prices-advanced-regression-techniques/sample_submission.csv')\n",
    "\n",
    "print('Train:{}   Test:{}'.format(train.shape,test.shape))\n",
    "\n",
    "missing = test.isnull().sum()\n",
    "missing = missing[missing>0]\n",
    "train.drop(missing.index, axis=1, inplace=True)\n",
    "train.drop(['Electrical'], axis=1, inplace=True)\n",
    "\n",
    "test.dropna(axis=1, inplace=True)\n",
    "test.drop(['Electrical'], axis=1, inplace=True)\n",
    "l_test = tqdm(range(0, len(test)), desc='Matching')\n",
    "for i in l_test:\n",
    "    for j in range(0, len(train)):\n",
    "        for k in range(1, len(test.columns)):\n",
    "            if test.iloc[i,k] == train.iloc[j,k]:\n",
    "                continue\n",
    "            else:\n",
    "                break\n",
    "        else:\n",
    "            submission.iloc[i, 1] = train.iloc[j, -1]\n",
    "            break\n",
    "l_test.close()\n",
    "\n",
    "submission.to_csv('result-with-best.csv', index=False)"
   ]
  }
 ],
 "metadata": {
  "kaggle": {
   "accelerator": "gpu",
   "dataSources": [
    {
     "databundleVersionId": 868283,
     "sourceId": 5407,
     "sourceType": "competition"
    },
    {
     "datasetId": 51153,
     "sourceId": 95503,
     "sourceType": "datasetVersion"
    }
   ],
   "dockerImageVersionId": 30637,
   "isGpuEnabled": true,
   "isInternetEnabled": true,
   "language": "python",
   "sourceType": "notebook"
  },
  "kernelspec": {
   "display_name": "Python 3",
   "language": "python",
   "name": "python3"
  },
  "language_info": {
   "codemirror_mode": {
    "name": "ipython",
    "version": 3
   },
   "file_extension": ".py",
   "mimetype": "text/x-python",
   "name": "python",
   "nbconvert_exporter": "python",
   "pygments_lexer": "ipython3",
   "version": "3.10.12"
  },
  "papermill": {
   "default_parameters": {},
   "duration": 2894.420974,
   "end_time": "2024-01-14T07:20:59.498985",
   "environment_variables": {},
   "exception": null,
   "input_path": "__notebook__.ipynb",
   "output_path": "__notebook__.ipynb",
   "parameters": {},
   "start_time": "2024-01-14T06:32:45.078011",
   "version": "2.4.0"
  }
 },
 "nbformat": 4,
 "nbformat_minor": 5
}
