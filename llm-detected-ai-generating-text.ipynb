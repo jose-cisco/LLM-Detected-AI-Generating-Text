{
 "cells": [
  {
   "cell_type": "markdown",
   "id": "a5210cde",
   "metadata": {
    "papermill": {
     "duration": 0.004312,
     "end_time": "2024-01-14T02:39:14.698955",
     "exception": false,
     "start_time": "2024-01-14T02:39:14.694643",
     "status": "completed"
    },
    "tags": []
   },
   "source": [
    "# **Importing Libraries**"
   ]
  },
  {
   "cell_type": "code",
   "execution_count": 1,
   "id": "5593e60e",
   "metadata": {
    "_cell_guid": "b1076dfc-b9ad-4769-8c92-a6c4dae69d19",
    "_uuid": "8f2839f25d086af736a60e9eeb907d3b93b6e0e5",
    "execution": {
     "iopub.execute_input": "2024-01-14T02:39:14.709130Z",
     "iopub.status.busy": "2024-01-14T02:39:14.708499Z",
     "iopub.status.idle": "2024-01-14T02:39:23.920676Z",
     "shell.execute_reply": "2024-01-14T02:39:23.919564Z"
    },
    "papermill": {
     "duration": 9.220299,
     "end_time": "2024-01-14T02:39:23.923295",
     "exception": false,
     "start_time": "2024-01-14T02:39:14.702996",
     "status": "completed"
    },
    "tags": []
   },
   "outputs": [],
   "source": [
    "import sys\n",
    "import gc\n",
    "\n",
    "import pandas as pd\n",
    "from sklearn.model_selection import StratifiedKFold\n",
    "import numpy as np\n",
    "from sklearn.metrics import roc_auc_score\n",
    "import numpy as np\n",
    "from lightgbm import LGBMClassifier\n",
    "from catboost import CatBoostClassifier\n",
    "from sklearn.feature_extraction.text import TfidfVectorizer\n",
    "\n",
    "from tokenizers import (\n",
    "    decoders,\n",
    "    models,\n",
    "    normalizers,\n",
    "    pre_tokenizers,\n",
    "    processors,\n",
    "    trainers,\n",
    "    Tokenizer,\n",
    ")\n",
    "\n",
    "from datasets import Dataset\n",
    "from tqdm.auto import tqdm\n",
    "from transformers import PreTrainedTokenizerFast\n",
    "\n",
    "from sklearn.linear_model import SGDClassifier\n",
    "from sklearn.naive_bayes import MultinomialNB\n",
    "from sklearn.ensemble import VotingClassifier\n",
    "\n",
    "import warnings\n",
    "\n",
    "# Ignore all warnings (not recommended in general)\n",
    "warnings.filterwarnings(\"ignore\")"
   ]
  },
  {
   "cell_type": "markdown",
   "id": "453bc19b",
   "metadata": {
    "papermill": {
     "duration": 0.003543,
     "end_time": "2024-01-14T02:39:23.930891",
     "exception": false,
     "start_time": "2024-01-14T02:39:23.927348",
     "status": "completed"
    },
    "tags": []
   },
   "source": [
    "# **Loading Data**"
   ]
  },
  {
   "cell_type": "code",
   "execution_count": 2,
   "id": "b5ac4fcf",
   "metadata": {
    "execution": {
     "iopub.execute_input": "2024-01-14T02:39:23.941370Z",
     "iopub.status.busy": "2024-01-14T02:39:23.940596Z",
     "iopub.status.idle": "2024-01-14T02:39:26.429794Z",
     "shell.execute_reply": "2024-01-14T02:39:26.428706Z"
    },
    "papermill": {
     "duration": 2.497249,
     "end_time": "2024-01-14T02:39:26.432456",
     "exception": false,
     "start_time": "2024-01-14T02:39:23.935207",
     "status": "completed"
    },
    "tags": []
   },
   "outputs": [],
   "source": [
    "test = pd.read_csv('/kaggle/input/llm-detect-ai-generated-text/test_essays.csv')\n",
    "sub = pd.read_csv('/kaggle/input/llm-detect-ai-generated-text/sample_submission.csv')\n",
    "org_train = pd.read_csv('/kaggle/input/llm-detect-ai-generated-text/train_essays.csv')\n",
    "train = pd.read_csv(\"/kaggle/input/daigt-v2-train-dataset/train_v2_drcat_02.csv\", sep=',')"
   ]
  },
  {
   "cell_type": "markdown",
   "id": "9892d96c",
   "metadata": {
    "papermill": {
     "duration": 0.003589,
     "end_time": "2024-01-14T02:39:26.440045",
     "exception": false,
     "start_time": "2024-01-14T02:39:26.436456",
     "status": "completed"
    },
    "tags": []
   },
   "source": [
    "# **Removing Duplicate Rows**"
   ]
  },
  {
   "cell_type": "code",
   "execution_count": 3,
   "id": "420a7e9d",
   "metadata": {
    "execution": {
     "iopub.execute_input": "2024-01-14T02:39:26.449718Z",
     "iopub.status.busy": "2024-01-14T02:39:26.448900Z",
     "iopub.status.idle": "2024-01-14T02:39:26.540504Z",
     "shell.execute_reply": "2024-01-14T02:39:26.539500Z"
    },
    "papermill": {
     "duration": 0.099239,
     "end_time": "2024-01-14T02:39:26.543100",
     "exception": false,
     "start_time": "2024-01-14T02:39:26.443861",
     "status": "completed"
    },
    "tags": []
   },
   "outputs": [],
   "source": [
    "train = train.drop_duplicates(subset=['text'])\n",
    "train.reset_index(drop=True, inplace=True)"
   ]
  },
  {
   "cell_type": "markdown",
   "id": "2d8030c8",
   "metadata": {
    "papermill": {
     "duration": 0.00352,
     "end_time": "2024-01-14T02:39:26.550835",
     "exception": false,
     "start_time": "2024-01-14T02:39:26.547315",
     "status": "completed"
    },
    "tags": []
   },
   "source": [
    "# **Configuration Parameters**"
   ]
  },
  {
   "cell_type": "code",
   "execution_count": 4,
   "id": "0a13b1a5",
   "metadata": {
    "execution": {
     "iopub.execute_input": "2024-01-14T02:39:26.560127Z",
     "iopub.status.busy": "2024-01-14T02:39:26.559747Z",
     "iopub.status.idle": "2024-01-14T02:39:26.563929Z",
     "shell.execute_reply": "2024-01-14T02:39:26.562899Z"
    },
    "papermill": {
     "duration": 0.011285,
     "end_time": "2024-01-14T02:39:26.565862",
     "exception": false,
     "start_time": "2024-01-14T02:39:26.554577",
     "status": "completed"
    },
    "tags": []
   },
   "outputs": [],
   "source": [
    "LOWERCASE = False\n",
    "VOCAB_SIZE = 30522"
   ]
  },
  {
   "cell_type": "markdown",
   "id": "78accd3f",
   "metadata": {
    "papermill": {
     "duration": 0.003435,
     "end_time": "2024-01-14T02:39:26.573209",
     "exception": false,
     "start_time": "2024-01-14T02:39:26.569774",
     "status": "completed"
    },
    "tags": []
   },
   "source": [
    "# **Byte-Pair Encoding Tokenizer Training**"
   ]
  },
  {
   "cell_type": "code",
   "execution_count": 5,
   "id": "bb3982a4",
   "metadata": {
    "execution": {
     "iopub.execute_input": "2024-01-14T02:39:26.582121Z",
     "iopub.status.busy": "2024-01-14T02:39:26.581735Z",
     "iopub.status.idle": "2024-01-14T02:41:43.469591Z",
     "shell.execute_reply": "2024-01-14T02:41:43.468262Z"
    },
    "papermill": {
     "duration": 136.894969,
     "end_time": "2024-01-14T02:41:43.471959",
     "exception": false,
     "start_time": "2024-01-14T02:39:26.576990",
     "status": "completed"
    },
    "tags": []
   },
   "outputs": [
    {
     "name": "stdout",
     "output_type": "stream",
     "text": [
      "\n",
      "\n",
      "\n"
     ]
    },
    {
     "data": {
      "application/vnd.jupyter.widget-view+json": {
       "model_id": "0898f7d4cfa54bd09e591344e898ebbf",
       "version_major": 2,
       "version_minor": 0
      },
      "text/plain": [
       "  0%|          | 0/3 [00:00<?, ?it/s]"
      ]
     },
     "metadata": {},
     "output_type": "display_data"
    },
    {
     "data": {
      "application/vnd.jupyter.widget-view+json": {
       "model_id": "c8f094c5fd6648b3a454ece641c65028",
       "version_major": 2,
       "version_minor": 0
      },
      "text/plain": [
       "  0%|          | 0/44868 [00:00<?, ?it/s]"
      ]
     },
     "metadata": {},
     "output_type": "display_data"
    }
   ],
   "source": [
    "# Creating Byte-Pair Encoding tokenizer\n",
    "raw_tokenizer = Tokenizer(models.BPE(unk_token=\"[UNK]\"))\n",
    "raw_tokenizer.normalizer = normalizers.Sequence([normalizers.NFC()] + [normalizers.Lowercase()] if LOWERCASE else [])\n",
    "raw_tokenizer.pre_tokenizer = pre_tokenizers.ByteLevel()\n",
    "special_tokens = [\"[UNK]\", \"[PAD]\", \"[CLS]\", \"[SEP]\", \"[MASK]\"]\n",
    "trainer = trainers.BpeTrainer(vocab_size=VOCAB_SIZE, special_tokens=special_tokens)\n",
    "dataset = Dataset.from_pandas(test[['text']])\n",
    "def train_corp_iter(): \n",
    "    for i in range(0, len(dataset), 1000):\n",
    "        yield dataset[i : i + 1000][\"text\"]\n",
    "raw_tokenizer.train_from_iterator(train_corp_iter(), trainer=trainer)\n",
    "tokenizer = PreTrainedTokenizerFast(\n",
    "    tokenizer_object=raw_tokenizer,\n",
    "    unk_token=\"[UNK]\",\n",
    "    pad_token=\"[PAD]\",\n",
    "    cls_token=\"[CLS]\",\n",
    "    sep_token=\"[SEP]\",\n",
    "    mask_token=\"[MASK]\",\n",
    ")\n",
    "tokenized_texts_test = []\n",
    "\n",
    "for text in tqdm(test['text'].tolist()):\n",
    "    tokenized_texts_test.append(tokenizer.tokenize(text))\n",
    "\n",
    "tokenized_texts_train = []\n",
    "\n",
    "for text in tqdm(train['text'].tolist()):\n",
    "    tokenized_texts_train.append(tokenizer.tokenize(text))"
   ]
  },
  {
   "cell_type": "markdown",
   "id": "11424735",
   "metadata": {
    "papermill": {
     "duration": 0.004158,
     "end_time": "2024-01-14T02:41:43.480703",
     "exception": false,
     "start_time": "2024-01-14T02:41:43.476545",
     "status": "completed"
    },
    "tags": []
   },
   "source": [
    "# **TF-IDF Vectorization**"
   ]
  },
  {
   "cell_type": "code",
   "execution_count": 6,
   "id": "2a251fa1",
   "metadata": {
    "execution": {
     "iopub.execute_input": "2024-01-14T02:41:43.491593Z",
     "iopub.status.busy": "2024-01-14T02:41:43.490553Z",
     "iopub.status.idle": "2024-01-14T02:45:37.616248Z",
     "shell.execute_reply": "2024-01-14T02:45:37.615156Z"
    },
    "papermill": {
     "duration": 234.137674,
     "end_time": "2024-01-14T02:45:37.622564",
     "exception": false,
     "start_time": "2024-01-14T02:41:43.484890",
     "status": "completed"
    },
    "tags": []
   },
   "outputs": [
    {
     "name": "stdout",
     "output_type": "stream",
     "text": [
      "{'ĠAaa Ġbbb Ġccc': 0, 'Ġbbb Ġccc .': 6, 'ĠAaa Ġbbb Ġccc .': 1, 'ĠBbb Ġccc Ġddd': 2, 'Ġccc Ġddd .': 7, 'ĠBbb Ġccc Ġddd .': 3, 'ĠCCC Ġddd Ġeee': 4, 'Ġddd Ġeee .': 8, 'ĠCCC Ġddd Ġeee .': 5}\n"
     ]
    },
    {
     "data": {
      "text/plain": [
       "23"
      ]
     },
     "execution_count": 6,
     "metadata": {},
     "output_type": "execute_result"
    }
   ],
   "source": [
    "def dummy(text):\n",
    "    return text\n",
    "vectorizer = TfidfVectorizer(ngram_range=(3, 5), lowercase=False, sublinear_tf=True, analyzer = 'word',\n",
    "    tokenizer = dummy,\n",
    "    preprocessor = dummy,\n",
    "    token_pattern = None, strip_accents='unicode')\n",
    "\n",
    "vectorizer.fit(tokenized_texts_test)\n",
    "\n",
    "# Getting vocab\n",
    "vocab = vectorizer.vocabulary_\n",
    "\n",
    "print(vocab)\n",
    "\n",
    "vectorizer = TfidfVectorizer(ngram_range=(3, 5), lowercase=False, sublinear_tf=True, vocabulary=vocab,\n",
    "                            analyzer = 'word',\n",
    "                            tokenizer = dummy,\n",
    "                            preprocessor = dummy,\n",
    "                            token_pattern = None, strip_accents='unicode'\n",
    "                            )\n",
    "\n",
    "tf_train = vectorizer.fit_transform(tokenized_texts_train)\n",
    "tf_test = vectorizer.transform(tokenized_texts_test)\n",
    "\n",
    "del vectorizer\n",
    "gc.collect()"
   ]
  },
  {
   "cell_type": "code",
   "execution_count": 7,
   "id": "c87d6a56",
   "metadata": {
    "execution": {
     "iopub.execute_input": "2024-01-14T02:45:37.633441Z",
     "iopub.status.busy": "2024-01-14T02:45:37.633027Z",
     "iopub.status.idle": "2024-01-14T02:45:37.638357Z",
     "shell.execute_reply": "2024-01-14T02:45:37.636963Z"
    },
    "papermill": {
     "duration": 0.013938,
     "end_time": "2024-01-14T02:45:37.640946",
     "exception": false,
     "start_time": "2024-01-14T02:45:37.627008",
     "status": "completed"
    },
    "tags": []
   },
   "outputs": [],
   "source": [
    "y_train = train['label'].values"
   ]
  },
  {
   "cell_type": "markdown",
   "id": "d00b83bb",
   "metadata": {
    "papermill": {
     "duration": 0.004333,
     "end_time": "2024-01-14T02:45:37.650751",
     "exception": false,
     "start_time": "2024-01-14T02:45:37.646418",
     "status": "completed"
    },
    "tags": []
   },
   "source": [
    "# **Model Training and Prediction then submission output**"
   ]
  },
  {
   "cell_type": "code",
   "execution_count": 8,
   "id": "84f4fb40",
   "metadata": {
    "execution": {
     "iopub.execute_input": "2024-01-14T02:45:37.661651Z",
     "iopub.status.busy": "2024-01-14T02:45:37.661162Z",
     "iopub.status.idle": "2024-01-14T02:45:37.675392Z",
     "shell.execute_reply": "2024-01-14T02:45:37.674175Z"
    },
    "papermill": {
     "duration": 0.022521,
     "end_time": "2024-01-14T02:45:37.677847",
     "exception": false,
     "start_time": "2024-01-14T02:45:37.655326",
     "status": "completed"
    },
    "tags": []
   },
   "outputs": [],
   "source": [
    "if len(test.text.values) <= 5:\n",
    "    sub.to_csv('submission.csv', index=False)\n",
    "else:\n",
    "    clf = MultinomialNB(alpha=0.02)\n",
    "#     clf2 = MultinomialNB(alpha=0.01)\n",
    "    sgd_model = SGDClassifier(max_iter=8000, tol=1e-4, loss=\"modified_huber\") \n",
    "    p6={'n_iter': 2500,\n",
    "        'verbose': -1,\n",
    "        'objective': 'cross_entropy',\n",
    "        'metric': 'auc',\n",
    "        'learning_rate': 0.00581909898961407, \n",
    "        'colsample_bytree': 0.78,\n",
    "        'colsample_bynode': 0.8, \n",
    "        'lambda_l1': 4.562963348932286, \n",
    "        'lambda_l2': 2.97485, \n",
    "        'min_data_in_leaf': 115, \n",
    "        'max_depth': 23, \n",
    "        'max_bin': 898}\n",
    "    \n",
    "    lgb=LGBMClassifier(**p6)\n",
    "    cat=CatBoostClassifier(iterations=2000,\n",
    "                           verbose=0,\n",
    "                           l2_leaf_reg=6.6591278779517808,\n",
    "                           learning_rate=0.005599066836106983,\n",
    "                           subsample = 0.4,\n",
    "                           allow_const_label=True,\n",
    "                           loss_function = 'CrossEntropy')\n",
    "    \n",
    "    weights = [0.068,0.31,0.31,0.312]\n",
    " \n",
    "    ensemble = VotingClassifier(estimators=[('mnb',clf),\n",
    "                                            ('sgd', sgd_model),\n",
    "                                            ('lgb',lgb), \n",
    "                                            ('cat', cat)\n",
    "                                           ],\n",
    "                                weights=weights, voting='soft', n_jobs=-1)\n",
    "    ensemble.fit(tf_train, y_train)\n",
    "    gc.collect()\n",
    "    final_preds = ensemble.predict_proba(tf_test)[:,1]\n",
    "    sub['generated'] = final_preds\n",
    "    sub.to_csv('submission.csv', index=False)\n",
    "    sub"
   ]
  }
 ],
 "metadata": {
  "kaggle": {
   "accelerator": "none",
   "dataSources": [
    {
     "databundleVersionId": 6888007,
     "sourceId": 61542,
     "sourceType": "competition"
    },
    {
     "datasetId": 4005256,
     "sourceId": 6977472,
     "sourceType": "datasetVersion"
    }
   ],
   "dockerImageVersionId": 30636,
   "isGpuEnabled": false,
   "isInternetEnabled": false,
   "language": "python",
   "sourceType": "notebook"
  },
  "kernelspec": {
   "display_name": "Python 3",
   "language": "python",
   "name": "python3"
  },
  "language_info": {
   "codemirror_mode": {
    "name": "ipython",
    "version": 3
   },
   "file_extension": ".py",
   "mimetype": "text/x-python",
   "name": "python",
   "nbconvert_exporter": "python",
   "pygments_lexer": "ipython3",
   "version": "3.10.12"
  },
  "papermill": {
   "default_parameters": {},
   "duration": 388.805725,
   "end_time": "2024-01-14T02:45:40.507436",
   "environment_variables": {},
   "exception": null,
   "input_path": "__notebook__.ipynb",
   "output_path": "__notebook__.ipynb",
   "parameters": {},
   "start_time": "2024-01-14T02:39:11.701711",
   "version": "2.4.0"
  },
  "widgets": {
   "application/vnd.jupyter.widget-state+json": {
    "state": {
     "060351f58c6c4edb95630642ae8e3c7f": {
      "model_module": "@jupyter-widgets/controls",
      "model_module_version": "1.5.0",
      "model_name": "ProgressStyleModel",
      "state": {
       "_model_module": "@jupyter-widgets/controls",
       "_model_module_version": "1.5.0",
       "_model_name": "ProgressStyleModel",
       "_view_count": null,
       "_view_module": "@jupyter-widgets/base",
       "_view_module_version": "1.2.0",
       "_view_name": "StyleView",
       "bar_color": null,
       "description_width": ""
      }
     },
     "0898f7d4cfa54bd09e591344e898ebbf": {
      "model_module": "@jupyter-widgets/controls",
      "model_module_version": "1.5.0",
      "model_name": "HBoxModel",
      "state": {
       "_dom_classes": [],
       "_model_module": "@jupyter-widgets/controls",
       "_model_module_version": "1.5.0",
       "_model_name": "HBoxModel",
       "_view_count": null,
       "_view_module": "@jupyter-widgets/controls",
       "_view_module_version": "1.5.0",
       "_view_name": "HBoxView",
       "box_style": "",
       "children": [
        "IPY_MODEL_c1ac1f85749f4d008b00b935822b28f5",
        "IPY_MODEL_c3916666fecd498f9d680bbe308fb8cc",
        "IPY_MODEL_14f479c6f20b446d9b96265079d50c66"
       ],
       "layout": "IPY_MODEL_69c999f0d1a44614a7f1db3827e0f8b7"
      }
     },
     "0d25443f290f4247b7073c5bab3d0b81": {
      "model_module": "@jupyter-widgets/base",
      "model_module_version": "1.2.0",
      "model_name": "LayoutModel",
      "state": {
       "_model_module": "@jupyter-widgets/base",
       "_model_module_version": "1.2.0",
       "_model_name": "LayoutModel",
       "_view_count": null,
       "_view_module": "@jupyter-widgets/base",
       "_view_module_version": "1.2.0",
       "_view_name": "LayoutView",
       "align_content": null,
       "align_items": null,
       "align_self": null,
       "border": null,
       "bottom": null,
       "display": null,
       "flex": null,
       "flex_flow": null,
       "grid_area": null,
       "grid_auto_columns": null,
       "grid_auto_flow": null,
       "grid_auto_rows": null,
       "grid_column": null,
       "grid_gap": null,
       "grid_row": null,
       "grid_template_areas": null,
       "grid_template_columns": null,
       "grid_template_rows": null,
       "height": null,
       "justify_content": null,
       "justify_items": null,
       "left": null,
       "margin": null,
       "max_height": null,
       "max_width": null,
       "min_height": null,
       "min_width": null,
       "object_fit": null,
       "object_position": null,
       "order": null,
       "overflow": null,
       "overflow_x": null,
       "overflow_y": null,
       "padding": null,
       "right": null,
       "top": null,
       "visibility": null,
       "width": null
      }
     },
     "0daf129864614873b7db26668161f814": {
      "model_module": "@jupyter-widgets/controls",
      "model_module_version": "1.5.0",
      "model_name": "FloatProgressModel",
      "state": {
       "_dom_classes": [],
       "_model_module": "@jupyter-widgets/controls",
       "_model_module_version": "1.5.0",
       "_model_name": "FloatProgressModel",
       "_view_count": null,
       "_view_module": "@jupyter-widgets/controls",
       "_view_module_version": "1.5.0",
       "_view_name": "ProgressView",
       "bar_style": "success",
       "description": "",
       "description_tooltip": null,
       "layout": "IPY_MODEL_3b53112b08dc44a693e7b34b64223256",
       "max": 44868.0,
       "min": 0.0,
       "orientation": "horizontal",
       "style": "IPY_MODEL_060351f58c6c4edb95630642ae8e3c7f",
       "value": 44868.0
      }
     },
     "14f479c6f20b446d9b96265079d50c66": {
      "model_module": "@jupyter-widgets/controls",
      "model_module_version": "1.5.0",
      "model_name": "HTMLModel",
      "state": {
       "_dom_classes": [],
       "_model_module": "@jupyter-widgets/controls",
       "_model_module_version": "1.5.0",
       "_model_name": "HTMLModel",
       "_view_count": null,
       "_view_module": "@jupyter-widgets/controls",
       "_view_module_version": "1.5.0",
       "_view_name": "HTMLView",
       "description": "",
       "description_tooltip": null,
       "layout": "IPY_MODEL_418c9696fd5a4615af5838e31f75c8f0",
       "placeholder": "​",
       "style": "IPY_MODEL_4e36efcc1c904cdcb1dd6906b59337d9",
       "value": " 3/3 [00:00&lt;00:00, 202.94it/s]"
      }
     },
     "1d10ebc6e12440318029047860cc6cc0": {
      "model_module": "@jupyter-widgets/controls",
      "model_module_version": "1.5.0",
      "model_name": "HTMLModel",
      "state": {
       "_dom_classes": [],
       "_model_module": "@jupyter-widgets/controls",
       "_model_module_version": "1.5.0",
       "_model_name": "HTMLModel",
       "_view_count": null,
       "_view_module": "@jupyter-widgets/controls",
       "_view_module_version": "1.5.0",
       "_view_name": "HTMLView",
       "description": "",
       "description_tooltip": null,
       "layout": "IPY_MODEL_fbc372af312b4164b02ccf8aa06cf789",
       "placeholder": "​",
       "style": "IPY_MODEL_ed3aa9334f4f4a67a6462f4f6cf724df",
       "value": " 44868/44868 [02:16&lt;00:00, 224.93it/s]"
      }
     },
     "3b53112b08dc44a693e7b34b64223256": {
      "model_module": "@jupyter-widgets/base",
      "model_module_version": "1.2.0",
      "model_name": "LayoutModel",
      "state": {
       "_model_module": "@jupyter-widgets/base",
       "_model_module_version": "1.2.0",
       "_model_name": "LayoutModel",
       "_view_count": null,
       "_view_module": "@jupyter-widgets/base",
       "_view_module_version": "1.2.0",
       "_view_name": "LayoutView",
       "align_content": null,
       "align_items": null,
       "align_self": null,
       "border": null,
       "bottom": null,
       "display": null,
       "flex": null,
       "flex_flow": null,
       "grid_area": null,
       "grid_auto_columns": null,
       "grid_auto_flow": null,
       "grid_auto_rows": null,
       "grid_column": null,
       "grid_gap": null,
       "grid_row": null,
       "grid_template_areas": null,
       "grid_template_columns": null,
       "grid_template_rows": null,
       "height": null,
       "justify_content": null,
       "justify_items": null,
       "left": null,
       "margin": null,
       "max_height": null,
       "max_width": null,
       "min_height": null,
       "min_width": null,
       "object_fit": null,
       "object_position": null,
       "order": null,
       "overflow": null,
       "overflow_x": null,
       "overflow_y": null,
       "padding": null,
       "right": null,
       "top": null,
       "visibility": null,
       "width": null
      }
     },
     "418c9696fd5a4615af5838e31f75c8f0": {
      "model_module": "@jupyter-widgets/base",
      "model_module_version": "1.2.0",
      "model_name": "LayoutModel",
      "state": {
       "_model_module": "@jupyter-widgets/base",
       "_model_module_version": "1.2.0",
       "_model_name": "LayoutModel",
       "_view_count": null,
       "_view_module": "@jupyter-widgets/base",
       "_view_module_version": "1.2.0",
       "_view_name": "LayoutView",
       "align_content": null,
       "align_items": null,
       "align_self": null,
       "border": null,
       "bottom": null,
       "display": null,
       "flex": null,
       "flex_flow": null,
       "grid_area": null,
       "grid_auto_columns": null,
       "grid_auto_flow": null,
       "grid_auto_rows": null,
       "grid_column": null,
       "grid_gap": null,
       "grid_row": null,
       "grid_template_areas": null,
       "grid_template_columns": null,
       "grid_template_rows": null,
       "height": null,
       "justify_content": null,
       "justify_items": null,
       "left": null,
       "margin": null,
       "max_height": null,
       "max_width": null,
       "min_height": null,
       "min_width": null,
       "object_fit": null,
       "object_position": null,
       "order": null,
       "overflow": null,
       "overflow_x": null,
       "overflow_y": null,
       "padding": null,
       "right": null,
       "top": null,
       "visibility": null,
       "width": null
      }
     },
     "4d94777731e643e1ae670a9ab06cf059": {
      "model_module": "@jupyter-widgets/controls",
      "model_module_version": "1.5.0",
      "model_name": "DescriptionStyleModel",
      "state": {
       "_model_module": "@jupyter-widgets/controls",
       "_model_module_version": "1.5.0",
       "_model_name": "DescriptionStyleModel",
       "_view_count": null,
       "_view_module": "@jupyter-widgets/base",
       "_view_module_version": "1.2.0",
       "_view_name": "StyleView",
       "description_width": ""
      }
     },
     "4e36efcc1c904cdcb1dd6906b59337d9": {
      "model_module": "@jupyter-widgets/controls",
      "model_module_version": "1.5.0",
      "model_name": "DescriptionStyleModel",
      "state": {
       "_model_module": "@jupyter-widgets/controls",
       "_model_module_version": "1.5.0",
       "_model_name": "DescriptionStyleModel",
       "_view_count": null,
       "_view_module": "@jupyter-widgets/base",
       "_view_module_version": "1.2.0",
       "_view_name": "StyleView",
       "description_width": ""
      }
     },
     "69c999f0d1a44614a7f1db3827e0f8b7": {
      "model_module": "@jupyter-widgets/base",
      "model_module_version": "1.2.0",
      "model_name": "LayoutModel",
      "state": {
       "_model_module": "@jupyter-widgets/base",
       "_model_module_version": "1.2.0",
       "_model_name": "LayoutModel",
       "_view_count": null,
       "_view_module": "@jupyter-widgets/base",
       "_view_module_version": "1.2.0",
       "_view_name": "LayoutView",
       "align_content": null,
       "align_items": null,
       "align_self": null,
       "border": null,
       "bottom": null,
       "display": null,
       "flex": null,
       "flex_flow": null,
       "grid_area": null,
       "grid_auto_columns": null,
       "grid_auto_flow": null,
       "grid_auto_rows": null,
       "grid_column": null,
       "grid_gap": null,
       "grid_row": null,
       "grid_template_areas": null,
       "grid_template_columns": null,
       "grid_template_rows": null,
       "height": null,
       "justify_content": null,
       "justify_items": null,
       "left": null,
       "margin": null,
       "max_height": null,
       "max_width": null,
       "min_height": null,
       "min_width": null,
       "object_fit": null,
       "object_position": null,
       "order": null,
       "overflow": null,
       "overflow_x": null,
       "overflow_y": null,
       "padding": null,
       "right": null,
       "top": null,
       "visibility": null,
       "width": null
      }
     },
     "76a4c10cf8ac448892c513d67c081ba2": {
      "model_module": "@jupyter-widgets/base",
      "model_module_version": "1.2.0",
      "model_name": "LayoutModel",
      "state": {
       "_model_module": "@jupyter-widgets/base",
       "_model_module_version": "1.2.0",
       "_model_name": "LayoutModel",
       "_view_count": null,
       "_view_module": "@jupyter-widgets/base",
       "_view_module_version": "1.2.0",
       "_view_name": "LayoutView",
       "align_content": null,
       "align_items": null,
       "align_self": null,
       "border": null,
       "bottom": null,
       "display": null,
       "flex": null,
       "flex_flow": null,
       "grid_area": null,
       "grid_auto_columns": null,
       "grid_auto_flow": null,
       "grid_auto_rows": null,
       "grid_column": null,
       "grid_gap": null,
       "grid_row": null,
       "grid_template_areas": null,
       "grid_template_columns": null,
       "grid_template_rows": null,
       "height": null,
       "justify_content": null,
       "justify_items": null,
       "left": null,
       "margin": null,
       "max_height": null,
       "max_width": null,
       "min_height": null,
       "min_width": null,
       "object_fit": null,
       "object_position": null,
       "order": null,
       "overflow": null,
       "overflow_x": null,
       "overflow_y": null,
       "padding": null,
       "right": null,
       "top": null,
       "visibility": null,
       "width": null
      }
     },
     "bed71b62ef6d489c8328d2641e0397a2": {
      "model_module": "@jupyter-widgets/controls",
      "model_module_version": "1.5.0",
      "model_name": "ProgressStyleModel",
      "state": {
       "_model_module": "@jupyter-widgets/controls",
       "_model_module_version": "1.5.0",
       "_model_name": "ProgressStyleModel",
       "_view_count": null,
       "_view_module": "@jupyter-widgets/base",
       "_view_module_version": "1.2.0",
       "_view_name": "StyleView",
       "bar_color": null,
       "description_width": ""
      }
     },
     "c1ac1f85749f4d008b00b935822b28f5": {
      "model_module": "@jupyter-widgets/controls",
      "model_module_version": "1.5.0",
      "model_name": "HTMLModel",
      "state": {
       "_dom_classes": [],
       "_model_module": "@jupyter-widgets/controls",
       "_model_module_version": "1.5.0",
       "_model_name": "HTMLModel",
       "_view_count": null,
       "_view_module": "@jupyter-widgets/controls",
       "_view_module_version": "1.5.0",
       "_view_name": "HTMLView",
       "description": "",
       "description_tooltip": null,
       "layout": "IPY_MODEL_f660a76de7b746119f91edf5c9670a9b",
       "placeholder": "​",
       "style": "IPY_MODEL_4d94777731e643e1ae670a9ab06cf059",
       "value": "100%"
      }
     },
     "c3916666fecd498f9d680bbe308fb8cc": {
      "model_module": "@jupyter-widgets/controls",
      "model_module_version": "1.5.0",
      "model_name": "FloatProgressModel",
      "state": {
       "_dom_classes": [],
       "_model_module": "@jupyter-widgets/controls",
       "_model_module_version": "1.5.0",
       "_model_name": "FloatProgressModel",
       "_view_count": null,
       "_view_module": "@jupyter-widgets/controls",
       "_view_module_version": "1.5.0",
       "_view_name": "ProgressView",
       "bar_style": "success",
       "description": "",
       "description_tooltip": null,
       "layout": "IPY_MODEL_76a4c10cf8ac448892c513d67c081ba2",
       "max": 3.0,
       "min": 0.0,
       "orientation": "horizontal",
       "style": "IPY_MODEL_bed71b62ef6d489c8328d2641e0397a2",
       "value": 3.0
      }
     },
     "c8f094c5fd6648b3a454ece641c65028": {
      "model_module": "@jupyter-widgets/controls",
      "model_module_version": "1.5.0",
      "model_name": "HBoxModel",
      "state": {
       "_dom_classes": [],
       "_model_module": "@jupyter-widgets/controls",
       "_model_module_version": "1.5.0",
       "_model_name": "HBoxModel",
       "_view_count": null,
       "_view_module": "@jupyter-widgets/controls",
       "_view_module_version": "1.5.0",
       "_view_name": "HBoxView",
       "box_style": "",
       "children": [
        "IPY_MODEL_f179b868575a42b0bc92bde87ca1a1e3",
        "IPY_MODEL_0daf129864614873b7db26668161f814",
        "IPY_MODEL_1d10ebc6e12440318029047860cc6cc0"
       ],
       "layout": "IPY_MODEL_0d25443f290f4247b7073c5bab3d0b81"
      }
     },
     "c931adea3c8f42deaf206f1b48536252": {
      "model_module": "@jupyter-widgets/base",
      "model_module_version": "1.2.0",
      "model_name": "LayoutModel",
      "state": {
       "_model_module": "@jupyter-widgets/base",
       "_model_module_version": "1.2.0",
       "_model_name": "LayoutModel",
       "_view_count": null,
       "_view_module": "@jupyter-widgets/base",
       "_view_module_version": "1.2.0",
       "_view_name": "LayoutView",
       "align_content": null,
       "align_items": null,
       "align_self": null,
       "border": null,
       "bottom": null,
       "display": null,
       "flex": null,
       "flex_flow": null,
       "grid_area": null,
       "grid_auto_columns": null,
       "grid_auto_flow": null,
       "grid_auto_rows": null,
       "grid_column": null,
       "grid_gap": null,
       "grid_row": null,
       "grid_template_areas": null,
       "grid_template_columns": null,
       "grid_template_rows": null,
       "height": null,
       "justify_content": null,
       "justify_items": null,
       "left": null,
       "margin": null,
       "max_height": null,
       "max_width": null,
       "min_height": null,
       "min_width": null,
       "object_fit": null,
       "object_position": null,
       "order": null,
       "overflow": null,
       "overflow_x": null,
       "overflow_y": null,
       "padding": null,
       "right": null,
       "top": null,
       "visibility": null,
       "width": null
      }
     },
     "ed3aa9334f4f4a67a6462f4f6cf724df": {
      "model_module": "@jupyter-widgets/controls",
      "model_module_version": "1.5.0",
      "model_name": "DescriptionStyleModel",
      "state": {
       "_model_module": "@jupyter-widgets/controls",
       "_model_module_version": "1.5.0",
       "_model_name": "DescriptionStyleModel",
       "_view_count": null,
       "_view_module": "@jupyter-widgets/base",
       "_view_module_version": "1.2.0",
       "_view_name": "StyleView",
       "description_width": ""
      }
     },
     "f179b868575a42b0bc92bde87ca1a1e3": {
      "model_module": "@jupyter-widgets/controls",
      "model_module_version": "1.5.0",
      "model_name": "HTMLModel",
      "state": {
       "_dom_classes": [],
       "_model_module": "@jupyter-widgets/controls",
       "_model_module_version": "1.5.0",
       "_model_name": "HTMLModel",
       "_view_count": null,
       "_view_module": "@jupyter-widgets/controls",
       "_view_module_version": "1.5.0",
       "_view_name": "HTMLView",
       "description": "",
       "description_tooltip": null,
       "layout": "IPY_MODEL_c931adea3c8f42deaf206f1b48536252",
       "placeholder": "​",
       "style": "IPY_MODEL_f3dfee1de1344e2dbf53445d52500280",
       "value": "100%"
      }
     },
     "f3dfee1de1344e2dbf53445d52500280": {
      "model_module": "@jupyter-widgets/controls",
      "model_module_version": "1.5.0",
      "model_name": "DescriptionStyleModel",
      "state": {
       "_model_module": "@jupyter-widgets/controls",
       "_model_module_version": "1.5.0",
       "_model_name": "DescriptionStyleModel",
       "_view_count": null,
       "_view_module": "@jupyter-widgets/base",
       "_view_module_version": "1.2.0",
       "_view_name": "StyleView",
       "description_width": ""
      }
     },
     "f660a76de7b746119f91edf5c9670a9b": {
      "model_module": "@jupyter-widgets/base",
      "model_module_version": "1.2.0",
      "model_name": "LayoutModel",
      "state": {
       "_model_module": "@jupyter-widgets/base",
       "_model_module_version": "1.2.0",
       "_model_name": "LayoutModel",
       "_view_count": null,
       "_view_module": "@jupyter-widgets/base",
       "_view_module_version": "1.2.0",
       "_view_name": "LayoutView",
       "align_content": null,
       "align_items": null,
       "align_self": null,
       "border": null,
       "bottom": null,
       "display": null,
       "flex": null,
       "flex_flow": null,
       "grid_area": null,
       "grid_auto_columns": null,
       "grid_auto_flow": null,
       "grid_auto_rows": null,
       "grid_column": null,
       "grid_gap": null,
       "grid_row": null,
       "grid_template_areas": null,
       "grid_template_columns": null,
       "grid_template_rows": null,
       "height": null,
       "justify_content": null,
       "justify_items": null,
       "left": null,
       "margin": null,
       "max_height": null,
       "max_width": null,
       "min_height": null,
       "min_width": null,
       "object_fit": null,
       "object_position": null,
       "order": null,
       "overflow": null,
       "overflow_x": null,
       "overflow_y": null,
       "padding": null,
       "right": null,
       "top": null,
       "visibility": null,
       "width": null
      }
     },
     "fbc372af312b4164b02ccf8aa06cf789": {
      "model_module": "@jupyter-widgets/base",
      "model_module_version": "1.2.0",
      "model_name": "LayoutModel",
      "state": {
       "_model_module": "@jupyter-widgets/base",
       "_model_module_version": "1.2.0",
       "_model_name": "LayoutModel",
       "_view_count": null,
       "_view_module": "@jupyter-widgets/base",
       "_view_module_version": "1.2.0",
       "_view_name": "LayoutView",
       "align_content": null,
       "align_items": null,
       "align_self": null,
       "border": null,
       "bottom": null,
       "display": null,
       "flex": null,
       "flex_flow": null,
       "grid_area": null,
       "grid_auto_columns": null,
       "grid_auto_flow": null,
       "grid_auto_rows": null,
       "grid_column": null,
       "grid_gap": null,
       "grid_row": null,
       "grid_template_areas": null,
       "grid_template_columns": null,
       "grid_template_rows": null,
       "height": null,
       "justify_content": null,
       "justify_items": null,
       "left": null,
       "margin": null,
       "max_height": null,
       "max_width": null,
       "min_height": null,
       "min_width": null,
       "object_fit": null,
       "object_position": null,
       "order": null,
       "overflow": null,
       "overflow_x": null,
       "overflow_y": null,
       "padding": null,
       "right": null,
       "top": null,
       "visibility": null,
       "width": null
      }
     }
    },
    "version_major": 2,
    "version_minor": 0
   }
  }
 },
 "nbformat": 4,
 "nbformat_minor": 5
}
